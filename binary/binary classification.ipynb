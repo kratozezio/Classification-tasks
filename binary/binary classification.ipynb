{
 "cells": [
  {
   "attachments": {},
   "cell_type": "markdown",
   "metadata": {},
   "source": [
    "#### Import libraries"
   ]
  },
  {
   "cell_type": "code",
   "execution_count": 29,
   "metadata": {},
   "outputs": [],
   "source": [
    "import torch\n",
    "from matplotlib import pyplot as plt\n",
    "import pandas as pd\n",
    "import re\n",
    "from nltk.corpus import stopwords\n",
    "from nltk.tokenize import word_tokenize\n",
    "from nltk.stem import PorterStemmer\n",
    "import string\n",
    "from sklearn.feature_extraction.text import TfidfVectorizer\n",
    "import numpy as np\n",
    "from sklearn.linear_model import LogisticRegression\n",
    "from typing import List, Dict"
   ]
  },
  {
   "attachments": {},
   "cell_type": "markdown",
   "metadata": {},
   "source": [
    "#### Data loading and exploratory analysis"
   ]
  },
  {
   "cell_type": "code",
   "execution_count": 2,
   "metadata": {},
   "outputs": [],
   "source": [
    "df = pd.read_csv(\"../../datasets/movie/IMDB Dataset.csv\")"
   ]
  },
  {
   "cell_type": "code",
   "execution_count": 3,
   "metadata": {},
   "outputs": [
    {
     "data": {
      "text/html": [
       "<div>\n",
       "<style scoped>\n",
       "    .dataframe tbody tr th:only-of-type {\n",
       "        vertical-align: middle;\n",
       "    }\n",
       "\n",
       "    .dataframe tbody tr th {\n",
       "        vertical-align: top;\n",
       "    }\n",
       "\n",
       "    .dataframe thead th {\n",
       "        text-align: right;\n",
       "    }\n",
       "</style>\n",
       "<table border=\"1\" class=\"dataframe\">\n",
       "  <thead>\n",
       "    <tr style=\"text-align: right;\">\n",
       "      <th></th>\n",
       "      <th>review</th>\n",
       "      <th>sentiment</th>\n",
       "    </tr>\n",
       "  </thead>\n",
       "  <tbody>\n",
       "    <tr>\n",
       "      <th>0</th>\n",
       "      <td>One of the other reviewers has mentioned that ...</td>\n",
       "      <td>positive</td>\n",
       "    </tr>\n",
       "    <tr>\n",
       "      <th>1</th>\n",
       "      <td>A wonderful little production. &lt;br /&gt;&lt;br /&gt;The...</td>\n",
       "      <td>positive</td>\n",
       "    </tr>\n",
       "    <tr>\n",
       "      <th>2</th>\n",
       "      <td>I thought this was a wonderful way to spend ti...</td>\n",
       "      <td>positive</td>\n",
       "    </tr>\n",
       "    <tr>\n",
       "      <th>3</th>\n",
       "      <td>Basically there's a family where a little boy ...</td>\n",
       "      <td>negative</td>\n",
       "    </tr>\n",
       "    <tr>\n",
       "      <th>4</th>\n",
       "      <td>Petter Mattei's \"Love in the Time of Money\" is...</td>\n",
       "      <td>positive</td>\n",
       "    </tr>\n",
       "  </tbody>\n",
       "</table>\n",
       "</div>"
      ],
      "text/plain": [
       "                                              review sentiment\n",
       "0  One of the other reviewers has mentioned that ...  positive\n",
       "1  A wonderful little production. <br /><br />The...  positive\n",
       "2  I thought this was a wonderful way to spend ti...  positive\n",
       "3  Basically there's a family where a little boy ...  negative\n",
       "4  Petter Mattei's \"Love in the Time of Money\" is...  positive"
      ]
     },
     "execution_count": 3,
     "metadata": {},
     "output_type": "execute_result"
    }
   ],
   "source": [
    "df.head()"
   ]
  },
  {
   "cell_type": "code",
   "execution_count": 4,
   "metadata": {},
   "outputs": [
    {
     "name": "stdout",
     "output_type": "stream",
     "text": [
      "Shape: (50000, 2)\n",
      "Columns: Index(['review', 'sentiment'], dtype='object')\n"
     ]
    }
   ],
   "source": [
    "print(f\"Shape: {df.shape}\")\n",
    "print(f\"Columns: {df.columns}\")"
   ]
  },
  {
   "attachments": {},
   "cell_type": "markdown",
   "metadata": {},
   "source": [
    "Checking for null values"
   ]
  },
  {
   "cell_type": "code",
   "execution_count": 5,
   "metadata": {},
   "outputs": [
    {
     "name": "stdout",
     "output_type": "stream",
     "text": [
      "Null values:\n",
      "review       0\n",
      "sentiment    0\n",
      "dtype: int64\n"
     ]
    }
   ],
   "source": [
    "print(f\"Null values:\\n{df.isnull().sum()}\")"
   ]
  },
  {
   "cell_type": "code",
   "execution_count": 6,
   "metadata": {},
   "outputs": [
    {
     "name": "stdout",
     "output_type": "stream",
     "text": [
      "Unique output classes: ['positive' 'negative']\n"
     ]
    }
   ],
   "source": [
    "print(f\"Unique output classes: {df['sentiment'].unique()}\")"
   ]
  },
  {
   "attachments": {},
   "cell_type": "markdown",
   "metadata": {},
   "source": [
    "Checking for imbalance in data"
   ]
  },
  {
   "cell_type": "code",
   "execution_count": 7,
   "metadata": {},
   "outputs": [
    {
     "name": "stdout",
     "output_type": "stream",
     "text": [
      "positive    25000\n",
      "negative    25000\n",
      "Name: sentiment, dtype: int64\n"
     ]
    },
    {
     "data": {
      "image/png": "[encoded data removed]",
      "text/plain": [
       "<Figure size 640x480 with 1 Axes>"
      ]
     },
     "metadata": {},
     "output_type": "display_data"
    }
   ],
   "source": [
    "print(df[\"sentiment\"].value_counts())\n",
    "plt.title(\"Frequency of sentiments\")\n",
    "plt.xlabel(\"Sentiment\")\n",
    "plt.ylabel(\"Count\")\n",
    "plt.bar(df[\"sentiment\"].value_counts().index, df[\"sentiment\"].value_counts().values)\n",
    "plt.show()"
   ]
  },
  {
   "attachments": {},
   "cell_type": "markdown",
   "metadata": {},
   "source": [
    "The dataset is **balanced**"
   ]
  },
  {
   "attachments": {},
   "cell_type": "markdown",
   "metadata": {},
   "source": [
    "### Split data into train and test sets"
   ]
  },
  {
   "cell_type": "code",
   "execution_count": 8,
   "metadata": {},
   "outputs": [],
   "source": [
    "train = df.sample(frac=0.8)  # train size is 80% of all data\n",
    "test = df.drop(train.index)\n",
    "train = train.reset_index(drop=True)\n",
    "test = test.reset_index(drop=True)"
   ]
  },
  {
   "attachments": {},
   "cell_type": "markdown",
   "metadata": {},
   "source": [
    "### Preprocessing text data"
   ]
  },
  {
   "cell_type": "code",
   "execution_count": 9,
   "metadata": {},
   "outputs": [],
   "source": [
    "def preprocess(text: str) -> str:\n",
    "    \"\"\"\n",
    "    Function to preproces text\n",
    "\n",
    "    Parameters\n",
    "    ----------\n",
    "    text: `str`\n",
    "        Text that is to be preprocessed\n",
    "\n",
    "    Returns\n",
    "    -------\n",
    "    text: `str`\n",
    "        Preprocessed text\n",
    "    \"\"\"\n",
    "\n",
    "    text = text.lower()\n",
    "    text = text.replace(\"<br />\", \" \")  # Remove <br> tags\n",
    "    text = text.translate(\n",
    "        str.maketrans(string.punctuation, \" \" * len(string.punctuation))\n",
    "    )  # Remove punctuations\n",
    "    text = re.sub(r\"\\d\", \"\", text)  # Remove digits\n",
    "\n",
    "    words = word_tokenize(text)  # tokenize words\n",
    "    stemmer = PorterStemmer()\n",
    "    stopwords_english = stopwords.words(\"English\")\n",
    "    for word in words:\n",
    "        if word in stopwords_english:\n",
    "            text = re.sub(r\"\\b%s\\b\" % word, \"\", text)\n",
    "        else:\n",
    "            stemmed_word = stemmer.stem(word)\n",
    "            text = re.sub(\n",
    "                r\"\\b%s\\b\" % word, stemmed_word, text\n",
    "            )  # replace each word with its stemmed version\n",
    "\n",
    "    text = re.sub(\" +\", \" \", text)  # Remove extra spaces\n",
    "    text = text.strip()\n",
    "\n",
    "    return text"
   ]
  },
  {
   "cell_type": "code",
   "execution_count": 10,
   "metadata": {},
   "outputs": [
    {
     "name": "stdout",
     "output_type": "stream",
     "text": [
      "Before cleaning: Good footage of World War I-era ships and planes supplement this excellent war drama set in the Adriatic. Walter Huston is excellent as the commanding officer who knows his place and his place has no room for personal feelings. The safety of the ship and the mission must always come first. Robert Montgomery is the Lieutenant who has not yet mastered the role that a leader must play in combat. He makes bad decisions, endangering the submarine and its crew but finally becomes a \"real man\" after he is court martialed and dismissed from the Navy. Robert Young plays a lieutenant junior grade and Jimmy Durante as a cook. Paralleling the war drama is an equally important wartime love triangle between Montgomery and Madge Evans who plays Huston's daughter and the wife of a tragically injured aviator. Recommended.\n",
      "----------------------------------------\n",
      "After cleaning: good footag world war era ship plane supplement excel war drama set adriat walter huston excel command offic know place place room person feel safeti ship mission must alway come first robert montgomeri lieuten yet master role leader must play combat make bad decis endang submarin crew final becom real man court martial dismiss navi robert young play lieuten junior grade jimmi durant cook parallel war drama equal import wartim love triangl montgomeri madg evan play huston daughter wife tragic injur aviat recommend\n"
     ]
    }
   ],
   "source": [
    "print(f\"Before cleaning: {train['review'][0]}\")\n",
    "train[\"review\"] = train[\"review\"].map(preprocess)\n",
    "print(\"----------------------------------------\")\n",
    "print(f\"After cleaning: {train['review'][0]}\")"
   ]
  },
  {
   "attachments": {},
   "cell_type": "markdown",
   "metadata": {},
   "source": [
    "### Create word vocabulary"
   ]
  },
  {
   "cell_type": "code",
   "execution_count": 11,
   "metadata": {},
   "outputs": [],
   "source": [
    "def create_vocab(df: pd.DataFrame) -> Dict[str, int]:\n",
    "    \"\"\"\n",
    "    Function used to create a vocabulary of all words with their counts in the given corpus\n",
    "\n",
    "    Parameters\n",
    "    ----------\n",
    "    df: `pd.DataFrame`\n",
    "        Dataframe object containing the corpus\n",
    "\n",
    "    Returns\n",
    "    -------\n",
    "    vocab: `Dict[str, int]`\n",
    "        Vocabulary containing all words with their counts\n",
    "    \"\"\"\n",
    "\n",
    "    vocab = {}\n",
    "    stopwords_english = stopwords.words(\"English\")\n",
    "    for review in df.values:\n",
    "        words = word_tokenize(review)\n",
    "        for word in words:\n",
    "            if word not in stopwords_english:\n",
    "                if word not in vocab:\n",
    "                    vocab[word] = 1\n",
    "                else:\n",
    "                    vocab[word] += 1\n",
    "\n",
    "    return vocab"
   ]
  },
  {
   "cell_type": "code",
   "execution_count": 12,
   "metadata": {},
   "outputs": [],
   "source": [
    "pos_vocab = create_vocab(train[\"review\"][train[\"sentiment\"] == 1])\n",
    "neg_vocab = create_vocab(train[\"review\"][train[\"sentiment\"] == 0])"
   ]
  },
  {
   "attachments": {},
   "cell_type": "markdown",
   "metadata": {},
   "source": [
    "### Vectorizing input data"
   ]
  },
  {
   "cell_type": "code",
   "execution_count": 13,
   "metadata": {},
   "outputs": [],
   "source": [
    "# def create_review_tensor(review):\n",
    "\n",
    "#     review_tensor = torch.zeros(3000, 2)\n",
    "#     words = word_tokenize(review)\n",
    "#     for idx, word in enumerate(words):\n",
    "#         if word in pos_vocab:\n",
    "#             review_tensor[idx][0] = pos_vocab[word]\n",
    "#         if word in neg_vocab:\n",
    "#             review_tensor[idx][1] = neg_vocab[word]\n",
    "\n",
    "#     return review_tensor.reshape(6000, 1)"
   ]
  },
  {
   "attachments": {},
   "cell_type": "markdown",
   "metadata": {},
   "source": [
    "Using tfidf to vectorize input data"
   ]
  },
  {
   "cell_type": "code",
   "execution_count": 14,
   "metadata": {},
   "outputs": [],
   "source": [
    "tfidf = TfidfVectorizer(max_features=10000)\n",
    "tfidf.fit(train[\"review\"])\n",
    "train_x = tfidf.transform(train[\"review\"])"
   ]
  },
  {
   "attachments": {},
   "cell_type": "markdown",
   "metadata": {},
   "source": [
    "Converting sparse matrix to tensors"
   ]
  },
  {
   "cell_type": "code",
   "execution_count": 15,
   "metadata": {},
   "outputs": [],
   "source": [
    "coo_train = train_x.tocoo()\n",
    "values = coo_train.data\n",
    "indices = np.vstack((coo_train.row, coo_train.col))\n",
    "i = torch.LongTensor(indices)\n",
    "v = torch.FloatTensor(values)\n",
    "shape = coo_train.shape\n",
    "\n",
    "train_x = torch.sparse.FloatTensor(i, v, torch.Size(shape)).to_dense()"
   ]
  },
  {
   "attachments": {},
   "cell_type": "markdown",
   "metadata": {},
   "source": [
    "Representing sentiment as integers - Positive: 1 Negative: 0"
   ]
  },
  {
   "cell_type": "code",
   "execution_count": 16,
   "metadata": {},
   "outputs": [],
   "source": [
    "train[\"sentiment\"][train[\"sentiment\"] == \"positive\"] = 1\n",
    "train[\"sentiment\"][train[\"sentiment\"] == \"negative\"] = 0\n",
    "train[\"sentiment\"] = train[\"sentiment\"].astype(int)  # to convert str '1' to int 1"
   ]
  },
  {
   "cell_type": "code",
   "execution_count": 17,
   "metadata": {},
   "outputs": [],
   "source": [
    "# Reshaping output to fit model\n",
    "train_y = torch.tensor(train[\"sentiment\"]).reshape(40000, 1)"
   ]
  },
  {
   "cell_type": "code",
   "execution_count": 18,
   "metadata": {},
   "outputs": [
    {
     "data": {
      "text/plain": [
       "(torch.Size([40000, 10000]), torch.Size([40000, 1]))"
      ]
     },
     "execution_count": 18,
     "metadata": {},
     "output_type": "execute_result"
    }
   ],
   "source": [
    "train_x.shape, train_y.shape"
   ]
  },
  {
   "attachments": {},
   "cell_type": "markdown",
   "metadata": {},
   "source": [
    "### Logistic Regression model"
   ]
  },
  {
   "cell_type": "code",
   "execution_count": 19,
   "metadata": {},
   "outputs": [],
   "source": [
    "class LogisticBinary:\n",
    "    \"\"\"\n",
    "    Class that represents the Logistic Regression Model\n",
    "\n",
    "    Attributes\n",
    "    ----------\n",
    "    X: ``torch.Tensor``\n",
    "        Input data to the model\n",
    "    Y: ``torch.Tensor``\n",
    "        Output data used for supervised learning\n",
    "    n_iterations: ``int`` ( default = 10 )\n",
    "        Number of times the training samples are to be read / No. of iterations of model\n",
    "    learning_rate: ``str`` ( default = 0.1 )\n",
    "        Learning rate used to affect the rate of gradient descent\n",
    "    print_cost: ``str`` ( default = False )\n",
    "        Flag that determines if cost is to be printed while training the model\n",
    "    draw_cost: ``str`` ( default = False )\n",
    "        Flag that determines if a plot of cost function vs epoch is to be drawn\n",
    "    params: ``str`` ( default = {} )\n",
    "        Parameters of the model\n",
    "    grads: ``str`` ( default = {} )\n",
    "        Gradient of every parameter\n",
    "    costs: ``str`` ( default = [] )\n",
    "        List containing cost after each epoch\n",
    "    \"\"\"\n",
    "\n",
    "    def __init__(\n",
    "        self,\n",
    "        X: torch.Tensor,\n",
    "        Y: torch.Tensor,\n",
    "        n_iterations: int = 100,\n",
    "        learning_rate: float = 0.1,\n",
    "        print_cost: bool = False,\n",
    "        draw_cost: bool = False,\n",
    "    ):\n",
    "        self.X = X\n",
    "        self.Y = Y\n",
    "        self.n_iterations = n_iterations\n",
    "        self.learning_rate = learning_rate\n",
    "        self.print_cost = print_cost\n",
    "        self.draw_cost = draw_cost\n",
    "        self.m = X.shape[0]\n",
    "        # self.max_val = max_val\n",
    "        self.params = {}\n",
    "        self.grads = {}\n",
    "        self.costs = []\n",
    "\n",
    "    def initialize_params(self) -> Dict[str, torch.Tensor]:\n",
    "        \"\"\"\n",
    "        Initialize parameters for the model\n",
    "\n",
    "        Returns\n",
    "        -------\n",
    "        parameters: ``Dict[str, torch.Tensor]``\n",
    "        \"\"\"\n",
    "\n",
    "        # w = torch.rand((6000, 1)) * 0.001\n",
    "        w = torch.rand((10000, 1)) * 0.01\n",
    "        b = torch.zeros((1, 1))\n",
    "\n",
    "        self.params[\"w\"] = w\n",
    "        self.params[\"b\"] = b\n",
    "\n",
    "        return self.params\n",
    "\n",
    "    def compute_cost(self, a: torch.Tensor) -> torch.Tensor:\n",
    "        \"\"\"\n",
    "        Compute the cost of the model\n",
    "\n",
    "        Parameters\n",
    "        ----------\n",
    "        a: ``torch.Tensor``\n",
    "            Activation output of the final layer\n",
    "\n",
    "        Returns\n",
    "        -------\n",
    "        cost: ``torch.Tensor``\n",
    "            Cost of the model after one forward pass\n",
    "        \"\"\"\n",
    "\n",
    "        cost = -torch.mean(\n",
    "            (\n",
    "                (self.Y * torch.log(a).transpose(0, 1))\n",
    "                + ((1 - self.Y) * torch.log(1 - a).transpose(0, 1))\n",
    "            )\n",
    "        )\n",
    "\n",
    "        return cost\n",
    "\n",
    "    def forward_propagation(self, X: torch.Tensor) -> torch.Tensor:\n",
    "        \"\"\"\n",
    "        Perform one forward pass\n",
    "\n",
    "        Parameters\n",
    "        ----------\n",
    "        X: ``torch.Tensor``\n",
    "            Tensor containing the input features\n",
    "\n",
    "        Returns\n",
    "        -------\n",
    "        z: ``torch.Tensor``\n",
    "        \"\"\"\n",
    "\n",
    "        w = self.params[\"w\"]\n",
    "        b = self.params[\"b\"]\n",
    "        z = torch.mm(w.transpose(0, 1), X.transpose(0, 1)) + b\n",
    "\n",
    "        return z\n",
    "\n",
    "    def backpropagation(self, a: torch.Tensor) -> Dict[str, torch.Tensor]:\n",
    "        \"\"\"\n",
    "        Perform one backward pass\n",
    "\n",
    "        Parameters\n",
    "        ----------\n",
    "        a: ``torch.Tensor``\n",
    "            Tensor containing the activations of the final layer\n",
    "\n",
    "        Returns\n",
    "        -------\n",
    "        gradients: ``Dict[str, torch.Tensor]``\n",
    "            Gradients required to modify parameters of the model\n",
    "        \"\"\"\n",
    "\n",
    "        dw = torch.mm(self.X.transpose(0, 1), (a.transpose(0, 1) - self.Y)) / 40\n",
    "\n",
    "        db = torch.mean(a - self.Y.transpose(0, 1))\n",
    "\n",
    "        self.grads[\"dw\"] = dw\n",
    "        self.grads[\"db\"] = db\n",
    "        return self.grads\n",
    "\n",
    "    def optimize(self) -> Dict[str, torch.Tensor]:\n",
    "        \"\"\"\n",
    "        Optimize the model by updating its parameters\n",
    "\n",
    "        Returns\n",
    "        -------\n",
    "        parameters: ``Dict[str, torch.Tensor``\n",
    "        \"\"\"\n",
    "\n",
    "        w = self.params[\"w\"]\n",
    "        b = self.params[\"b\"]\n",
    "        dw = self.grads[\"dw\"]\n",
    "        db = self.grads[\"db\"]\n",
    "\n",
    "        w -= self.learning_rate * dw\n",
    "        b -= self.learning_rate * db\n",
    "\n",
    "        self.params[\"w\"] = w\n",
    "        self.params[\"b\"] = b\n",
    "\n",
    "        return self.params\n",
    "\n",
    "    def train(self) -> Dict[str, torch.Tensor]:\n",
    "        \"\"\"\n",
    "        Perform training on the model\n",
    "\n",
    "        Returns\n",
    "        -------\n",
    "        parameters: ``Dict[str, torch.Tensor]``\n",
    "            The final parameters of the model that can be used to make predictions\n",
    "        \"\"\"\n",
    "\n",
    "        self.params = self.initialize_params()\n",
    "\n",
    "        for i in range(self.n_iterations):\n",
    "            z = self.forward_propagation(self.X)\n",
    "            a = torch.sigmoid(z)\n",
    "            cost = self.compute_cost(a)\n",
    "            self.costs.append(cost)\n",
    "\n",
    "            if self.print_cost and (i % 10) == 0:\n",
    "                print(f\"Cost for iteration {i}: {cost}\")\n",
    "\n",
    "            self.grads = self.backpropagation(a)\n",
    "            self.params = self.optimize()\n",
    "\n",
    "        if self.draw_cost:\n",
    "            self.draw()\n",
    "\n",
    "        return self.params\n",
    "\n",
    "    def draw(self):\n",
    "        \"\"\"\n",
    "        Method to plot the variation of cost of model over different epochs\n",
    "        \"\"\"\n",
    "\n",
    "        plt.plot(range(0, self.n_iterations), self.costs)\n",
    "        plt.xlabel(\"No. of iterations\")\n",
    "        plt.ylabel(\"Cost Function\")\n",
    "        plt.show()\n",
    "\n",
    "    def predict(self, X_test: torch.Tensor) -> torch.Tensor:\n",
    "        \"\"\"\n",
    "        Perform predictions for given input data\n",
    "\n",
    "        Parameters\n",
    "        ----------\n",
    "        X_test: ``torch.Tensor``\n",
    "            Tensor containing the input data for which predictions are to be obtained\n",
    "\n",
    "        Returns\n",
    "        -------\n",
    "        predictions: ``torch.Tensor``\n",
    "            Tensor that holds the predictions for given input data\n",
    "        \"\"\"\n",
    "\n",
    "        # X_test = preprocess(X_test)\n",
    "        # X_tensor = create_review_tensor(X_test)\n",
    "        # X_tensor = X_tensor.reshape(1, 6000) / self.max_val\n",
    "\n",
    "        # a = torch.zeros((1, X_tensor.shape[0]))\n",
    "\n",
    "        z = self.forward_propagation(X_test)\n",
    "        a = torch.sigmoid(z)\n",
    "\n",
    "        a[a < 0.5] = int(0)\n",
    "        a[a >= 0.5] = int(1)\n",
    "\n",
    "        return torch.squeeze(a)\n",
    "\n",
    "    def score(self, X_test: torch.Tensor, Y_test: torch.Tensor) -> Dict[str, float]:\n",
    "        \"\"\"\n",
    "        Perform one backward pass\n",
    "\n",
    "        Parameters\n",
    "        ----------\n",
    "        X_test: ``torch.Tensor``\n",
    "            Tensor containing the input data\n",
    "\n",
    "        Y_test: ``torch.Tensor]``\n",
    "            Tensor containing output data for corresponding input data\n",
    "\n",
    "        Returns\n",
    "        -------\n",
    "        scores: ``Dict[str, float]``\n",
    "            Tensor containing output data for corresponding input data\n",
    "        \"\"\"\n",
    "\n",
    "        predictions = self.predict(X_test)\n",
    "        scores = {}\n",
    "\n",
    "        TP, TN, FP, FN = (0, 0, 0, 0)\n",
    "        for y, prediction in zip(Y_test, predictions):\n",
    "            # True Positive\n",
    "            if (\n",
    "                torch.IntTensor.item(y) == 1\n",
    "                and int(torch.IntTensor.item(prediction)) == 1\n",
    "            ):\n",
    "                TP += 1\n",
    "            # True Negative\n",
    "            elif y == 0 and prediction == 0:\n",
    "                TN += 1\n",
    "            # False positive\n",
    "            elif y == 0 and prediction == 1:\n",
    "                FP += 1\n",
    "            # False negative\n",
    "            elif y == 1 and prediction == 0:\n",
    "                FN += 1\n",
    "\n",
    "        accuracy = (TP + TN) / (TP + TN + FP + FN)\n",
    "        precision = TP / (TP + FP)\n",
    "        recall = TP / (TP + FN)\n",
    "        specificity = TN / (TN + FP)\n",
    "        f1_score = 2 * ((precision * recall) / (precision + recall))\n",
    "\n",
    "        scores[\"accuracy\"] = round(accuracy, 2)\n",
    "        scores[\"precision\"] = round(precision, 2)\n",
    "        scores[\"recall\"] = round(recall, 2)\n",
    "        scores[\"specificity\"] = round(specificity, 2)\n",
    "        scores[\"f1_score\"] = round(f1_score, 2)\n",
    "\n",
    "        return scores"
   ]
  },
  {
   "cell_type": "code",
   "execution_count": 20,
   "metadata": {},
   "outputs": [],
   "source": [
    "# def create_input():\n",
    "#     m = train['review'].shape[0]\n",
    "#     input = torch.zeros(m, 6000, 1)\n",
    "#     for i in range(m):\n",
    "#         input[i] = create_review_tensor(train['review'][i])\n",
    "#     input = input.reshape((40000, 6000))\n",
    "#     input = input / torch.max(input)\n",
    "\n",
    "#     return input, torch.max(input)"
   ]
  },
  {
   "cell_type": "code",
   "execution_count": 21,
   "metadata": {},
   "outputs": [],
   "source": [
    "# train_x, max_val = create_input()"
   ]
  },
  {
   "cell_type": "code",
   "execution_count": 22,
   "metadata": {},
   "outputs": [
    {
     "data": {
      "text/plain": [
       "(torch.Size([40000, 10000]), torch.Size([40000, 1]))"
      ]
     },
     "execution_count": 22,
     "metadata": {},
     "output_type": "execute_result"
    }
   ],
   "source": [
    "train_y = torch.tensor(train[\"sentiment\"]).reshape(40000, 1)\n",
    "train_x.shape, train_y.shape"
   ]
  },
  {
   "cell_type": "code",
   "execution_count": 23,
   "metadata": {},
   "outputs": [
    {
     "data": {
      "text/plain": [
       "(torch.Size([40000, 10000]), torch.Size([40000, 1]))"
      ]
     },
     "execution_count": 23,
     "metadata": {},
     "output_type": "execute_result"
    }
   ],
   "source": [
    "train_x.shape, train_y.shape"
   ]
  },
  {
   "cell_type": "code",
   "execution_count": 24,
   "metadata": {},
   "outputs": [
    {
     "name": "stdout",
     "output_type": "stream",
     "text": [
      "Cost for iteration 0: 0.6934860348701477\n",
      "Cost for iteration 10: 0.6581510901451111\n",
      "Cost for iteration 20: 0.6288825273513794\n",
      "Cost for iteration 30: 0.6037786602973938\n",
      "Cost for iteration 40: 0.5819896459579468\n",
      "Cost for iteration 50: 0.5629078149795532\n",
      "Cost for iteration 60: 0.5460594892501831\n",
      "Cost for iteration 70: 0.5310705304145813\n",
      "Cost for iteration 80: 0.5176432132720947\n",
      "Cost for iteration 90: 0.5055388808250427\n"
     ]
    },
    {
     "data": {
      "image/png": "[encoded data removed]",
      "text/plain": [
       "<Figure size 640x480 with 1 Axes>"
      ]
     },
     "metadata": {},
     "output_type": "display_data"
    }
   ],
   "source": [
    "cls = LogisticBinary(\n",
    "    train_x,\n",
    "    train_y,\n",
    "    n_iterations=100,\n",
    "    learning_rate=0.01,\n",
    "    print_cost=True,\n",
    "    draw_cost=True,\n",
    ")\n",
    "params = cls.train()"
   ]
  },
  {
   "cell_type": "code",
   "execution_count": 25,
   "metadata": {},
   "outputs": [],
   "source": [
    "test[\"review\"] = test[\"review\"].map(preprocess)\n",
    "test_x = tfidf.transform(test[\"review\"])\n",
    "coo_test = test_x.tocoo()\n",
    "values = coo_test.data\n",
    "indices = np.vstack((coo_test.row, coo_test.col))\n",
    "i = torch.LongTensor(indices)\n",
    "v = torch.FloatTensor(values)\n",
    "shape = coo_test.shape\n",
    "\n",
    "test_x = torch.sparse.FloatTensor(i, v, torch.Size(shape)).to_dense()"
   ]
  },
  {
   "cell_type": "code",
   "execution_count": 26,
   "metadata": {},
   "outputs": [],
   "source": [
    "test[\"sentiment\"][test[\"sentiment\"] == \"positive\"] = 1\n",
    "test[\"sentiment\"][test[\"sentiment\"] == \"negative\"] = 0\n",
    "test[\"sentiment\"] = test[\"sentiment\"].astype(int)\n",
    "\n",
    "test_y = torch.tensor(test[\"sentiment\"]).reshape(10000, 1)"
   ]
  },
  {
   "cell_type": "code",
   "execution_count": 27,
   "metadata": {},
   "outputs": [
    {
     "data": {
      "text/plain": [
       "tensor([1., 0., 0.,  ..., 0., 1., 0.])"
      ]
     },
     "execution_count": 27,
     "metadata": {},
     "output_type": "execute_result"
    }
   ],
   "source": [
    "cls.predict(test_x)"
   ]
  },
  {
   "cell_type": "code",
   "execution_count": 28,
   "metadata": {},
   "outputs": [
    {
     "data": {
      "text/plain": [
       "{'accuracy': 0.85,\n",
       " 'precision': 0.84,\n",
       " 'recall': 0.87,\n",
       " 'specificity': 0.84,\n",
       " 'f1_score': 0.86}"
      ]
     },
     "execution_count": 28,
     "metadata": {},
     "output_type": "execute_result"
    }
   ],
   "source": [
    "cls.score(test_x, test_y)"
   ]
  }
 ],
 "metadata": {
  "kernelspec": {
   "display_name": "Python 3",
   "language": "python",
   "name": "python3"
  },
  "language_info": {
   "codemirror_mode": {
    "name": "ipython",
    "version": 3
   },
   "file_extension": ".py",
   "mimetype": "text/x-python",
   "name": "python",
   "nbconvert_exporter": "python",
   "pygments_lexer": "ipython3",
   "version": "3.10.6"
  },
  "orig_nbformat": 4,
  "vscode": {
   "interpreter": {
    "hash": "916dbcbb3f70747c44a77c7bcd40155683ae19c65e1c03b4aa3499c5328201f1"
   }
  }
 },
 "nbformat": 4,
 "nbformat_minor": 2
}
