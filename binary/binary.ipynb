{
 "cells": [
  {
   "attachments": {},
   "cell_type": "markdown",
   "metadata": {},
   "source": [
    "#### Import libraries"
   ]
  },
  {
   "cell_type": "code",
   "execution_count": 89,
   "metadata": {},
   "outputs": [],
   "source": [
    "import torch\n",
    "from matplotlib import pyplot as plt\n",
    "import pandas as pd\n",
    "import re\n",
    "from nltk.corpus import stopwords\n",
    "from nltk.tokenize import word_tokenize\n",
    "from nltk.stem import PorterStemmer\n",
    "import string\n",
    "from sklearn.feature_extraction.text import TfidfVectorizer\n",
    "import numpy as np\n",
    "from sklearn.linear_model import LogisticRegression\n",
    "from typing import List, Dict"
   ]
  },
  {
   "attachments": {},
   "cell_type": "markdown",
   "metadata": {},
   "source": [
    "#### Data loading and exploratory analysis"
   ]
  },
  {
   "cell_type": "code",
   "execution_count": 90,
   "metadata": {},
   "outputs": [],
   "source": [
    "df = pd.read_csv(\"../../datasets/movie/IMDB Dataset.csv\")"
   ]
  },
  {
   "cell_type": "code",
   "execution_count": 91,
   "metadata": {},
   "outputs": [
    {
     "data": {
      "text/html": [
       "<div>\n",
       "<style scoped>\n",
       "    .dataframe tbody tr th:only-of-type {\n",
       "        vertical-align: middle;\n",
       "    }\n",
       "\n",
       "    .dataframe tbody tr th {\n",
       "        vertical-align: top;\n",
       "    }\n",
       "\n",
       "    .dataframe thead th {\n",
       "        text-align: right;\n",
       "    }\n",
       "</style>\n",
       "<table border=\"1\" class=\"dataframe\">\n",
       "  <thead>\n",
       "    <tr style=\"text-align: right;\">\n",
       "      <th></th>\n",
       "      <th>review</th>\n",
       "      <th>sentiment</th>\n",
       "    </tr>\n",
       "  </thead>\n",
       "  <tbody>\n",
       "    <tr>\n",
       "      <th>0</th>\n",
       "      <td>One of the other reviewers has mentioned that ...</td>\n",
       "      <td>positive</td>\n",
       "    </tr>\n",
       "    <tr>\n",
       "      <th>1</th>\n",
       "      <td>A wonderful little production. &lt;br /&gt;&lt;br /&gt;The...</td>\n",
       "      <td>positive</td>\n",
       "    </tr>\n",
       "    <tr>\n",
       "      <th>2</th>\n",
       "      <td>I thought this was a wonderful way to spend ti...</td>\n",
       "      <td>positive</td>\n",
       "    </tr>\n",
       "    <tr>\n",
       "      <th>3</th>\n",
       "      <td>Basically there's a family where a little boy ...</td>\n",
       "      <td>negative</td>\n",
       "    </tr>\n",
       "    <tr>\n",
       "      <th>4</th>\n",
       "      <td>Petter Mattei's \"Love in the Time of Money\" is...</td>\n",
       "      <td>positive</td>\n",
       "    </tr>\n",
       "  </tbody>\n",
       "</table>\n",
       "</div>"
      ],
      "text/plain": [
       "                                              review sentiment\n",
       "0  One of the other reviewers has mentioned that ...  positive\n",
       "1  A wonderful little production. <br /><br />The...  positive\n",
       "2  I thought this was a wonderful way to spend ti...  positive\n",
       "3  Basically there's a family where a little boy ...  negative\n",
       "4  Petter Mattei's \"Love in the Time of Money\" is...  positive"
      ]
     },
     "execution_count": 91,
     "metadata": {},
     "output_type": "execute_result"
    }
   ],
   "source": [
    "df.head()"
   ]
  },
  {
   "cell_type": "code",
   "execution_count": 92,
   "metadata": {},
   "outputs": [
    {
     "name": "stdout",
     "output_type": "stream",
     "text": [
      "Shape: (50000, 2)\n",
      "Columns: Index(['review', 'sentiment'], dtype='object')\n"
     ]
    }
   ],
   "source": [
    "print(f\"Shape: {df.shape}\")\n",
    "print(f\"Columns: {df.columns}\")"
   ]
  },
  {
   "attachments": {},
   "cell_type": "markdown",
   "metadata": {},
   "source": [
    "Checking for null values"
   ]
  },
  {
   "cell_type": "code",
   "execution_count": 93,
   "metadata": {},
   "outputs": [
    {
     "name": "stdout",
     "output_type": "stream",
     "text": [
      "Null values:\n",
      "review       0\n",
      "sentiment    0\n",
      "dtype: int64\n"
     ]
    }
   ],
   "source": [
    "print(f\"Null values:\\n{df.isnull().sum()}\")"
   ]
  },
  {
   "cell_type": "code",
   "execution_count": 94,
   "metadata": {},
   "outputs": [
    {
     "name": "stdout",
     "output_type": "stream",
     "text": [
      "Unique output classes: ['positive' 'negative']\n"
     ]
    }
   ],
   "source": [
    "print(f\"Unique output classes: {df['sentiment'].unique()}\")"
   ]
  },
  {
   "attachments": {},
   "cell_type": "markdown",
   "metadata": {},
   "source": [
    "Checking for imbalance in data"
   ]
  },
  {
   "cell_type": "code",
   "execution_count": 95,
   "metadata": {},
   "outputs": [
    {
     "name": "stdout",
     "output_type": "stream",
     "text": [
      "positive    25000\n",
      "negative    25000\n",
      "Name: sentiment, dtype: int64\n"
     ]
    },
    {
     "data": {
      "image/png": "[encoded data removed]",
      "text/plain": [
       "<Figure size 640x480 with 1 Axes>"
      ]
     },
     "metadata": {},
     "output_type": "display_data"
    }
   ],
   "source": [
    "print(df[\"sentiment\"].value_counts())\n",
    "plt.title(\"Frequency of sentiments\")\n",
    "plt.xlabel(\"Sentiment\")\n",
    "plt.ylabel(\"Count\")\n",
    "plt.bar(df[\"sentiment\"].value_counts().index, df[\"sentiment\"].value_counts().values)\n",
    "plt.show()"
   ]
  },
  {
   "attachments": {},
   "cell_type": "markdown",
   "metadata": {},
   "source": [
    "The dataset is **balanced**"
   ]
  },
  {
   "attachments": {},
   "cell_type": "markdown",
   "metadata": {},
   "source": [
    "### Split data into train and test sets"
   ]
  },
  {
   "cell_type": "code",
   "execution_count": 96,
   "metadata": {},
   "outputs": [],
   "source": [
    "train = df.sample(frac=0.8)  # train size is 80% of all data\n",
    "test = df.drop(train.index)\n",
    "train = train.reset_index(drop=True)\n",
    "test = test.reset_index(drop=True)"
   ]
  },
  {
   "attachments": {},
   "cell_type": "markdown",
   "metadata": {},
   "source": [
    "### Preprocessing text data"
   ]
  },
  {
   "cell_type": "code",
   "execution_count": 97,
   "metadata": {},
   "outputs": [],
   "source": [
    "def preprocess(text: str) -> str:\n",
    "    \"\"\"\n",
    "    Function to preproces text\n",
    "\n",
    "    Parameters\n",
    "    ----------\n",
    "    text: `str`\n",
    "        Text that is to be preprocessed\n",
    "\n",
    "    Returns\n",
    "    -------\n",
    "    text: `str`\n",
    "        Preprocessed text\n",
    "    \"\"\"\n",
    "\n",
    "    text = text.lower()\n",
    "    text = text.replace(\"<br />\", \" \")  # Remove <br> tags\n",
    "    text = text.translate(\n",
    "        str.maketrans(string.punctuation, \" \" * len(string.punctuation))\n",
    "    )  # Remove punctuations\n",
    "    text = re.sub(r\"\\d\", \"\", text)  # Remove digits\n",
    "\n",
    "    words = word_tokenize(text)  # tokenize words\n",
    "    stemmer = PorterStemmer()\n",
    "    stopwords_english = stopwords.words(\"English\")\n",
    "    for word in words:\n",
    "        if word in stopwords_english:\n",
    "            text = re.sub(r\"\\b%s\\b\" % word, \"\", text)\n",
    "        else:\n",
    "            stemmed_word = stemmer.stem(word)\n",
    "            text = re.sub(\n",
    "                r\"\\b%s\\b\" % word, stemmed_word, text\n",
    "            )  # replace each word with its stemmed version\n",
    "\n",
    "    text = re.sub(\" +\", \" \", text)  # Remove extra spaces\n",
    "    text = text.strip()\n",
    "\n",
    "    return text"
   ]
  },
  {
   "cell_type": "code",
   "execution_count": 98,
   "metadata": {},
   "outputs": [
    {
     "name": "stdout",
     "output_type": "stream",
     "text": [
      "Before cleaning: I am not going to lie. Despite looking interesting, I watched The Notorious Bettie Page because I had heard (and it was fairly obvious just by looking at a synopsis or anything about the film), that Gretchen Mol got naked in it. I have never been a fan of Mol, but I cannot resist seeing an attractive woman taking off her clothes. Yes, that may be perverted, but its a theme and ideal central to the very core of the movie, and helps to make the film a lot stronger than it probably should be.<br /><br />The film chronicles Bettie Page's (Mol) life from her physical and sexually abused days as a kid in high school in the South, and onto her new life in New York. She wants to be an actress, but she has to pay bills too. After taking a few seemingly innocent shots on a local beach, Page slowly becomes a modeling sensation, and quickly jumps from suggestive photos to sexually provocative pin-up photographs.<br /><br />I feel the briefness of the film (just over ninety minutes) is both a curse and blessing for it. On one hand, the film never overstays its welcome. You get to know Page within a few short minutes, and then it gets right into her modeling career and does not look back. But it curses the film as well, because we never really get a chance to grasp everything that is going on. She just kind of jumps around between modeling shoots and the controversies that they create before jumping right into the major senate investigation that takes up much of the final act of the film. You just sit there, and attempt to absorb it all, and more just comes right at you. It feels like the filmmakers wanted to summarize too much material in too short a film. It begs for longer sequences, and begs more for even longer explanations. It does not feel rushed; it just does not feel all there.<br /><br />Another bit of a fumble, although a bit more of a curiosity, is the use of colour throughout the film. The majority is in black and white, but frequently, splashes and sequences of colour do emerge. But while this may have been done as a symbolic gesture early on, it becomes a bit of a distraction as it continually pops up later on before cutting back to black and white. It gets confusing, and becomes more of a tedious interference than anything else as the film goes on.<br /><br />While it may fumble a bit with the actions, the film stays dead-on with its themes. Page, who I know little to nothing about, is played off innocently, and her world is exactly the same. Save for a few shady characters during her teenage years, everyone she encounters is an innocent, and everything she does has an innocence to it. I never thought I would look at full frontal nudity as being something that was anything other than vulgar and depraved, but here, it truly is something to marvel at. All at once, it is beautiful and innocent. Even the most sexually perverted moments in the film (albeit tame compared to today's standards) have an innocent and angelic feeling to them. There is just something about the way Mol's nude body is portrayed that it just strikes at such a different chord than nude bodies in other films. It just feels so natural and so wondrous, that if there were any reason to watch the film, it would be to see the spectacular depictions of Mol's body as she plays Bettie Page.<br /><br />The other reason is Mol herself. As Page, she exemplifies that 1950's Southern belle everyone knows (or can at least imagine). Despite her profession, she is still a normal person, and still looks at herself as being religious. Mol plays her exactly to the right amount of squeaky-cleanliness needed to make this character feel authentically from the 1950's. She plays her with such matter-of-factness that you would be hard-set not to think that Mol was actually Bettie Page herself.<br /><br />Unfortunately, the supporting cast have very little moments to shine, and are totally overshadowed by Mol's wonderful performance. None of them do anything particularly pleasing, and none of them really have that same strength in their role as Mol does. This is not really the fault of the actors, but more of the fact that they do not have much to work with. Many of them are totally recognizable, such as Oscar-nominee David Strathairn (in a role a little too close to one of his better performances), Sarah Paulson (recent Golden Globe nominee for Studio 60 on the Sunset Strip), and character actor Lili Taylor, but you would be hard set to really place their performance in being anything other than okay. None of these characters are really developed, and they really just stand as character cut-outs who Mol runs loops around as she picks up steam in her brilliant performance.<br /><br />Really, this film is worthwhile for its portrayal of nudity, and for Gretchen Mol's excellent performance of Bettie Page. Everything else is a bit too muddled and awkward than it should be. Had more work been done to develop supporting characters and not just blast right through the story, this film would have been a much better biographical film. As it stands, it is just a vehicle for Mol to really rise into the stratosphere of popularity as an actress.<br /><br />7/10.\n",
      "----------------------------------------\n",
      "After cleaning: go lie despit look interest watch notori betti page heard fairli obviou look synopsi anyth film gretchen mol got nake never fan mol cannot resist see attract woman take cloth ye may pervert theme ideal central core movi help make film lot stronger probabl film chronicl betti page mol life physic sexual abus day kid high school south onto new life new york want actress pay bill take seemingli innoc shot local beach page slowli becom model sensat quickli jump suggest photo sexual provoc pin photograph feel brief film nineti minut curs bless one hand film never overstay welcom get know page within short minut get right model career look back curs film well never realli get chanc grasp everyth go kind jump around model shoot controversi creat jump right major senat investig take much final act film sit attempt absorb come right feel like filmmak want summar much materi short film beg longer sequenc beg even longer explan feel rush feel anoth bit fumbl although bit curios use colour throughout film major black white frequent splash sequenc colour emerg may done symbol gestur earli becom bit distract continu pop later cut back black white get confus becom tediou interfer anyth els film goe may fumbl bit action film stay dead theme page know littl noth play innoc world exactli save shadi charact teenag year everyon encount innoc everyth innoc never thought would look full frontal nuditi someth anyth vulgar deprav truli someth marvel beauti innoc even sexual pervert moment film albeit tame compar today standard innoc angel feel someth way mol nude bodi portray strike differ chord nude bodi film feel natur wondrou reason watch film would see spectacular depict mol bodi play betti page reason mol page exemplifi southern bell everyon know least imagin despit profess still normal person still look religi mol play exactli right amount squeaki cleanli need make charact feel authent play matter fact would hard set think mol actual betti page unfortun support cast littl moment shine total overshadow mol wonder perform none anyth particularli pleas none realli strength role mol realli fault actor fact much work mani total recogniz oscar nomine david strathairn role littl close one better perform sarah paulson recent golden globe nomine studio sunset strip charact actor lili taylor would hard set realli place perform anyth okay none charact realli develop realli stand charact cut out mol run loop around pick steam brilliant perform realli film worthwhil portray nuditi gretchen mol excel perform betti page everyth els bit muddl awkward work done develop support charact blast right stori film would much better biograph film stand vehicl mol realli rise stratospher popular actress\n"
     ]
    }
   ],
   "source": [
    "print(f\"Before cleaning: {train['review'][0]}\")\n",
    "train[\"review\"] = train[\"review\"].map(preprocess)\n",
    "print(\"----------------------------------------\")\n",
    "print(f\"After cleaning: {train['review'][0]}\")"
   ]
  },
  {
   "attachments": {},
   "cell_type": "markdown",
   "metadata": {},
   "source": [
    "### Create word vocabulary"
   ]
  },
  {
   "cell_type": "code",
   "execution_count": 100,
   "metadata": {},
   "outputs": [],
   "source": [
    "def create_vocab(df: pd.DataFrame) -> Dict[str, int]:\n",
    "    \"\"\"\n",
    "    Function used to create a vocabulary of all words with their counts in the given corpus\n",
    "\n",
    "    Parameters\n",
    "    ----------\n",
    "    df: `pd.DataFrame`\n",
    "        Dataframe object containing the corpus\n",
    "\n",
    "    Returns\n",
    "    -------\n",
    "    vocab: `Dict[str, int]`\n",
    "        Vocabulary containing all words with their counts\n",
    "    \"\"\"\n",
    "\n",
    "    vocab = {}\n",
    "    stopwords_english = stopwords.words(\"English\")\n",
    "    for review in df.values:\n",
    "        words = word_tokenize(review)\n",
    "        for word in words:\n",
    "            if word not in stopwords_english:\n",
    "                if word not in vocab:\n",
    "                    vocab[word] = 1\n",
    "                else:\n",
    "                    vocab[word] += 1\n",
    "\n",
    "    return vocab"
   ]
  },
  {
   "cell_type": "code",
   "execution_count": 101,
   "metadata": {},
   "outputs": [],
   "source": [
    "pos_vocab = create_vocab(train[\"review\"][train[\"sentiment\"] == 1])\n",
    "neg_vocab = create_vocab(train[\"review\"][train[\"sentiment\"] == 0])"
   ]
  },
  {
   "attachments": {},
   "cell_type": "markdown",
   "metadata": {},
   "source": [
    "### Vectorizing input data"
   ]
  },
  {
   "cell_type": "code",
   "execution_count": 102,
   "metadata": {},
   "outputs": [],
   "source": [
    "# def create_review_tensor(review):\n",
    "\n",
    "#     review_tensor = torch.zeros(3000, 2)\n",
    "#     words = word_tokenize(review)\n",
    "#     for idx, word in enumerate(words):\n",
    "#         if word in pos_vocab:\n",
    "#             review_tensor[idx][0] = pos_vocab[word]\n",
    "#         if word in neg_vocab:\n",
    "#             review_tensor[idx][1] = neg_vocab[word]\n",
    "\n",
    "#     return review_tensor.reshape(6000, 1)"
   ]
  },
  {
   "attachments": {},
   "cell_type": "markdown",
   "metadata": {},
   "source": [
    "Using tfidf to vectorize input data"
   ]
  },
  {
   "cell_type": "code",
   "execution_count": 104,
   "metadata": {},
   "outputs": [],
   "source": [
    "tfidf = TfidfVectorizer(max_features=10000)\n",
    "tfidf.fit(train[\"review\"])\n",
    "train_x = tfidf.transform(train[\"review\"])"
   ]
  },
  {
   "attachments": {},
   "cell_type": "markdown",
   "metadata": {},
   "source": [
    "Converting sparse matrix to tensors"
   ]
  },
  {
   "cell_type": "code",
   "execution_count": 105,
   "metadata": {},
   "outputs": [],
   "source": [
    "coo_train = train_x.tocoo()\n",
    "values = coo_train.data\n",
    "indices = np.vstack((coo_train.row, coo_train.col))\n",
    "i = torch.LongTensor(indices)\n",
    "v = torch.FloatTensor(values)\n",
    "shape = coo_train.shape\n",
    "\n",
    "train_x = torch.sparse.FloatTensor(i, v, torch.Size(shape)).to_dense()"
   ]
  },
  {
   "attachments": {},
   "cell_type": "markdown",
   "metadata": {},
   "source": [
    "Representing sentiment as integers - Positive: 1 Negative: 0"
   ]
  },
  {
   "cell_type": "code",
   "execution_count": 99,
   "metadata": {},
   "outputs": [],
   "source": [
    "train[\"sentiment\"][train[\"sentiment\"] == \"positive\"] = 1\n",
    "train[\"sentiment\"][train[\"sentiment\"] == \"negative\"] = 0\n",
    "train[\"sentiment\"] = train[\"sentiment\"].astype(int)  # to convert str '1' to int 1"
   ]
  },
  {
   "cell_type": "code",
   "execution_count": 106,
   "metadata": {},
   "outputs": [],
   "source": [
    "# Reshaping output to fit model\n",
    "train_y = torch.tensor(train[\"sentiment\"]).reshape(40000, 1)"
   ]
  },
  {
   "cell_type": "code",
   "execution_count": 107,
   "metadata": {},
   "outputs": [
    {
     "data": {
      "text/plain": [
       "(torch.Size([40000, 10000]), torch.Size([40000, 1]))"
      ]
     },
     "execution_count": 107,
     "metadata": {},
     "output_type": "execute_result"
    }
   ],
   "source": [
    "train_x.shape, train_y.shape"
   ]
  },
  {
   "attachments": {},
   "cell_type": "markdown",
   "metadata": {},
   "source": [
    "### Logistic Regression model"
   ]
  },
  {
   "cell_type": "code",
   "execution_count": 151,
   "metadata": {},
   "outputs": [],
   "source": [
    "class LogisticBinary:\n",
    "    \"\"\"\n",
    "    Class that represents the Logistic Regression Model\n",
    "\n",
    "    Attributes\n",
    "    ----------\n",
    "    X: ``torch.Tensor``\n",
    "        Input data to the model\n",
    "    Y: ``torch.Tensor``\n",
    "        Output data used for supervised learning\n",
    "    n_iterations: ``int`` ( default = 10 )\n",
    "        Number of times the training samples are to be read / No. of iterations of model\n",
    "    learning_rate: ``str`` ( default = 0.1 )\n",
    "        Learning rate used to affect the rate of gradient descent\n",
    "    print_cost: ``str`` ( default = False )\n",
    "        Flag that determines if cost is to be printed while training the model\n",
    "    draw_cost: ``str`` ( default = False )\n",
    "        Flag that determines if a plot of cost function vs epoch is to be drawn\n",
    "    params: ``str`` ( default = {} )\n",
    "        Parameters of the model\n",
    "    grads: ``str`` ( default = {} )\n",
    "        Gradient of every parameter\n",
    "    costs: ``str`` ( default = [] )\n",
    "        List containing cost after each epoch\n",
    "    \"\"\"\n",
    "\n",
    "    def __init__(\n",
    "        self,\n",
    "        X: torch.Tensor,\n",
    "        Y: torch.Tensor,\n",
    "        n_iterations: int = 100,\n",
    "        learning_rate: float = 0.1,\n",
    "        print_cost: bool = False,\n",
    "        draw_cost: bool = False,\n",
    "    ):\n",
    "        self.X = X\n",
    "        self.Y = Y\n",
    "        self.n_iterations = n_iterations\n",
    "        self.learning_rate = learning_rate\n",
    "        self.print_cost = print_cost\n",
    "        self.draw_cost = draw_cost\n",
    "        self.m = X.shape[0]\n",
    "        # self.max_val = max_val\n",
    "        self.params = {}\n",
    "        self.grads = {}\n",
    "        self.costs = []\n",
    "\n",
    "    def initialize_params(self) -> Dict[str, torch.Tensor]:\n",
    "        \"\"\"\n",
    "        Initialize parameters for the model\n",
    "\n",
    "        Returns\n",
    "        -------\n",
    "        parameters: ``Dict[str, torch.Tensor]``\n",
    "        \"\"\"\n",
    "\n",
    "        # w = torch.rand((6000, 1)) * 0.001\n",
    "        w = torch.rand((10000, 1)) * 0.01\n",
    "        b = torch.zeros((1, 1))\n",
    "\n",
    "        self.params[\"w\"] = w\n",
    "        self.params[\"b\"] = b\n",
    "\n",
    "        return self.params\n",
    "\n",
    "    def compute_cost(self, a: torch.Tensor) -> torch.Tensor:\n",
    "        \"\"\"\n",
    "        Compute the cost of the model\n",
    "\n",
    "        Parameters\n",
    "        ----------\n",
    "        a: ``torch.Tensor``\n",
    "            Activation output of the final layer\n",
    "\n",
    "        Returns\n",
    "        -------\n",
    "        cost: ``torch.Tensor``\n",
    "            Cost of the model after one forward pass\n",
    "        \"\"\"\n",
    "\n",
    "        cost = -torch.mean(\n",
    "            (\n",
    "                (self.Y * torch.log(a).transpose(0, 1))\n",
    "                + ((1 - self.Y) * torch.log(1 - a).transpose(0, 1))\n",
    "            )\n",
    "        )\n",
    "\n",
    "        return cost\n",
    "\n",
    "    def forward_propagation(self, X: torch.Tensor) -> torch.Tensor:\n",
    "        \"\"\"\n",
    "        Perform one forward pass\n",
    "\n",
    "        Parameters\n",
    "        ----------\n",
    "        X: ``torch.Tensor``\n",
    "            Tensor containing the input features\n",
    "\n",
    "        Returns\n",
    "        -------\n",
    "        z: ``torch.Tensor``\n",
    "        \"\"\"\n",
    "\n",
    "        w = self.params[\"w\"]\n",
    "        b = self.params[\"b\"]\n",
    "        z = torch.mm(w.transpose(0, 1), X.transpose(0, 1)) + b\n",
    "\n",
    "        return z\n",
    "\n",
    "    def backpropagation(self, a: torch.Tensor) -> Dict[str, torch.Tensor]:\n",
    "        \"\"\"\n",
    "        Perform one backward pass\n",
    "\n",
    "        Parameters\n",
    "        ----------\n",
    "        a: ``torch.Tensor``\n",
    "            Tensor containing the activations of the final layer\n",
    "\n",
    "        Returns\n",
    "        -------\n",
    "        gradients: ``Dict[str, torch.Tensor]``\n",
    "            Gradients required to modify parameters of the model\n",
    "        \"\"\"\n",
    "\n",
    "        dw = torch.mm(self.X.transpose(0, 1), (a.transpose(0, 1) - self.Y)) / 40\n",
    "\n",
    "        db = torch.mean(a - self.Y.transpose(0, 1))\n",
    "\n",
    "        self.grads[\"dw\"] = dw\n",
    "        self.grads[\"db\"] = db\n",
    "        return self.grads\n",
    "\n",
    "    def optimize(self) -> Dict[str, torch.Tensor]:\n",
    "        \"\"\"\n",
    "        Optimize the model by updating its parameters\n",
    "\n",
    "        Returns\n",
    "        -------\n",
    "        parameters: ``Dict[str, torch.Tensor``\n",
    "        \"\"\"\n",
    "\n",
    "        w = self.params[\"w\"]\n",
    "        b = self.params[\"b\"]\n",
    "        dw = self.grads[\"dw\"]\n",
    "        db = self.grads[\"db\"]\n",
    "\n",
    "        w -= self.learning_rate * dw\n",
    "        b -= self.learning_rate * db\n",
    "\n",
    "        self.params[\"w\"] = w\n",
    "        self.params[\"b\"] = b\n",
    "\n",
    "        return self.params\n",
    "\n",
    "    def train(self) -> Dict[str, torch.Tensor]:\n",
    "        \"\"\"\n",
    "        Perform training on the model\n",
    "\n",
    "        Returns\n",
    "        -------\n",
    "        parameters: ``Dict[str, torch.Tensor]``\n",
    "            The final parameters of the model that can be used to make predictions\n",
    "        \"\"\"\n",
    "\n",
    "        self.params = self.initialize_params()\n",
    "\n",
    "        for i in range(self.n_iterations):\n",
    "            z = self.forward_propagation(self.X)\n",
    "            a = torch.sigmoid(z)\n",
    "            cost = self.compute_cost(a)\n",
    "            self.costs.append(cost)\n",
    "\n",
    "            if self.print_cost and (i % 10) == 0:\n",
    "                print(f\"Cost for iteration {i}: {cost}\")\n",
    "\n",
    "            self.grads = self.backpropagation(a)\n",
    "            self.params = self.optimize()\n",
    "\n",
    "        if self.draw_cost:\n",
    "            self.draw()\n",
    "\n",
    "        return self.params\n",
    "\n",
    "    def draw(self):\n",
    "        \"\"\"\n",
    "        Method to plot the variation of cost of model over different epochs\n",
    "        \"\"\"\n",
    "\n",
    "        plt.plot(range(0, self.n_iterations), self.costs)\n",
    "        plt.xlabel(\"No. of iterations\")\n",
    "        plt.ylabel(\"Cost Function\")\n",
    "        plt.show()\n",
    "\n",
    "    def predict(self, X_test: torch.Tensor) -> torch.Tensor:\n",
    "        \"\"\"\n",
    "        Perform predictions for given input data\n",
    "\n",
    "        Parameters\n",
    "        ----------\n",
    "        X_test: ``torch.Tensor``\n",
    "            Tensor containing the input data for which predictions are to be obtained\n",
    "\n",
    "        Returns\n",
    "        -------\n",
    "        predictions: ``torch.Tensor``\n",
    "            Tensor that holds the predictions for given input data\n",
    "        \"\"\"\n",
    "\n",
    "        # X_test = preprocess(X_test)\n",
    "        # X_tensor = create_review_tensor(X_test)\n",
    "        # X_tensor = X_tensor.reshape(1, 6000) / self.max_val\n",
    "\n",
    "        # a = torch.zeros((1, X_tensor.shape[0]))\n",
    "\n",
    "        z = self.forward_propagation(X_test)\n",
    "        a = torch.sigmoid(z)\n",
    "\n",
    "        a[a < 0.5] = int(0)\n",
    "        a[a >= 0.5] = int(1)\n",
    "\n",
    "        return torch.squeeze(a)\n",
    "\n",
    "    def score(self, X_test: torch.Tensor, Y_test: torch.Tensor) -> Dict[str, float]:\n",
    "        \"\"\"\n",
    "        Perform one backward pass\n",
    "\n",
    "        Parameters\n",
    "        ----------\n",
    "        X_test: ``torch.Tensor``\n",
    "            Tensor containing the input data\n",
    "\n",
    "        Y_test: ``torch.Tensor]``\n",
    "            Tensor containing output data for corresponding input data\n",
    "\n",
    "        Returns\n",
    "        -------\n",
    "        scores: ``Dict[str, float]``\n",
    "            Tensor containing output data for corresponding input data\n",
    "        \"\"\"\n",
    "\n",
    "        predictions = self.predict(X_test)\n",
    "        scores = {}\n",
    "\n",
    "        TP, TN, FP, FN = (0, 0, 0, 0)\n",
    "        for y, prediction in zip(Y_test, predictions):\n",
    "            # True Positive\n",
    "            if (\n",
    "                torch.IntTensor.item(y) == 1\n",
    "                and int(torch.IntTensor.item(prediction)) == 1\n",
    "            ):\n",
    "                TP += 1\n",
    "            # True Negative\n",
    "            elif y == 0 and prediction == 0:\n",
    "                TN += 1\n",
    "            # False positive\n",
    "            elif y == 0 and prediction == 1:\n",
    "                FP += 1\n",
    "            # False negative\n",
    "            elif y == 1 and prediction == 0:\n",
    "                FN += 1\n",
    "\n",
    "        accuracy = (TP + TN) / (TP + TN + FP + FN)\n",
    "        precision = TP / (TP + FP)\n",
    "        recall = TP / (TP + FN)\n",
    "        specificity = TN / (TN + FP)\n",
    "        f1_score = 2 * ((precision * recall) / (precision + recall))\n",
    "\n",
    "        scores[\"accuracy\"] = round(accuracy, 2)\n",
    "        scores[\"precision\"] = round(precision, 2)\n",
    "        scores[\"recall\"] = round(recall, 2)\n",
    "        scores[\"specificity\"] = round(specificity, 2)\n",
    "        scores[\"f1_score\"] = round(f1_score, 2)\n",
    "\n",
    "        return scores"
   ]
  },
  {
   "cell_type": "code",
   "execution_count": 119,
   "metadata": {},
   "outputs": [],
   "source": [
    "# def create_input():\n",
    "#     m = train['review'].shape[0]\n",
    "#     input = torch.zeros(m, 6000, 1)\n",
    "#     for i in range(m):\n",
    "#         input[i] = create_review_tensor(train['review'][i])\n",
    "#     input = input.reshape((40000, 6000))\n",
    "#     input = input / torch.max(input)\n",
    "\n",
    "#     return input, torch.max(input)"
   ]
  },
  {
   "cell_type": "code",
   "execution_count": 115,
   "metadata": {},
   "outputs": [],
   "source": [
    "# train_x, max_val = create_input()"
   ]
  },
  {
   "cell_type": "code",
   "execution_count": null,
   "metadata": {},
   "outputs": [],
   "source": [
    "train_y = torch.tensor(train[\"sentiment\"]).reshape(40000, 1)\n",
    "train_x.shape, train_y.shape"
   ]
  },
  {
   "cell_type": "code",
   "execution_count": 120,
   "metadata": {},
   "outputs": [
    {
     "data": {
      "text/plain": [
       "(torch.Size([40000, 6000]), torch.Size([40000, 1]))"
      ]
     },
     "execution_count": 120,
     "metadata": {},
     "output_type": "execute_result"
    }
   ],
   "source": [
    "train_x.shape, train_y.shape"
   ]
  },
  {
   "cell_type": "code",
   "execution_count": 152,
   "metadata": {},
   "outputs": [
    {
     "name": "stdout",
     "output_type": "stream",
     "text": [
      "Cost for iteration 0: 0.6932435631752014\n",
      "Cost for iteration 10: 1.1940609216690063\n",
      "Cost for iteration 20: 1.1716121435165405\n",
      "Cost for iteration 30: 1.151837944984436\n",
      "Cost for iteration 40: 1.1338529586791992\n",
      "Cost for iteration 50: 1.116973876953125\n",
      "Cost for iteration 60: 1.1008431911468506\n",
      "Cost for iteration 70: 1.0852864980697632\n",
      "Cost for iteration 80: 1.070204496383667\n",
      "Cost for iteration 90: 1.0555341243743896\n"
     ]
    },
    {
     "data": {
      "image/png": "[encoded data removed]",
      "text/plain": [
       "<Figure size 640x480 with 1 Axes>"
      ]
     },
     "metadata": {},
     "output_type": "display_data"
    }
   ],
   "source": [
    "cls = LogisticBinary(\n",
    "    train_x,\n",
    "    train_y,\n",
    "    n_iterations=100,\n",
    "    learning_rate=0.01,\n",
    "    print_cost=True,\n",
    "    draw_cost=True,\n",
    ")\n",
    "params = cls.train()"
   ]
  },
  {
   "cell_type": "code",
   "execution_count": 108,
   "metadata": {},
   "outputs": [],
   "source": [
    "test[\"review\"] = test[\"review\"].map(preprocess)\n",
    "test_x = tfidf.transform(test[\"review\"])\n",
    "coo_test = test_x.tocoo()\n",
    "values = coo_test.data\n",
    "indices = np.vstack((coo_test.row, coo_test.col))\n",
    "i = torch.LongTensor(indices)\n",
    "v = torch.FloatTensor(values)\n",
    "shape = coo_test.shape\n",
    "\n",
    "test_x = torch.sparse.FloatTensor(i, v, torch.Size(shape)).to_dense()"
   ]
  },
  {
   "cell_type": "code",
   "execution_count": null,
   "metadata": {},
   "outputs": [
    {
     "name": "stderr",
     "output_type": "stream",
     "text": [
      "/tmp/ipykernel_6902/3057215181.py:1: SettingWithCopyWarning: \n",
      "A value is trying to be set on a copy of a slice from a DataFrame\n",
      "\n",
      "See the caveats in the documentation: https://pandas.pydata.org/pandas-docs/stable/user_guide/indexing.html#returning-a-view-versus-a-copy\n",
      "  test['sentiment'][test['sentiment'] == \"positive\"] = 1\n",
      "/tmp/ipykernel_6902/3057215181.py:2: SettingWithCopyWarning: \n",
      "A value is trying to be set on a copy of a slice from a DataFrame\n",
      "\n",
      "See the caveats in the documentation: https://pandas.pydata.org/pandas-docs/stable/user_guide/indexing.html#returning-a-view-versus-a-copy\n",
      "  test['sentiment'][test['sentiment'] == \"negative\"] = 0\n"
     ]
    }
   ],
   "source": [
    "test[\"sentiment\"][test[\"sentiment\"] == \"positive\"] = 1\n",
    "test[\"sentiment\"][test[\"sentiment\"] == \"negative\"] = 0\n",
    "test[\"sentiment\"] = test[\"sentiment\"].astype(int)\n",
    "\n",
    "test_y = torch.tensor(test[\"sentiment\"]).reshape(10000, 1)"
   ]
  },
  {
   "cell_type": "code",
   "execution_count": null,
   "metadata": {},
   "outputs": [
    {
     "data": {
      "text/plain": [
       "tensor([1., 0., 0.,  ..., 0., 1., 1.])"
      ]
     },
     "execution_count": 50,
     "metadata": {},
     "output_type": "execute_result"
    }
   ],
   "source": [
    "cls.predict(test_x)"
   ]
  },
  {
   "cell_type": "code",
   "execution_count": null,
   "metadata": {},
   "outputs": [
    {
     "name": "stdout",
     "output_type": "stream",
     "text": [
      "4394 4082 900 624\n"
     ]
    },
    {
     "data": {
      "text/plain": [
       "{'accuracy': 0.85,\n",
       " 'precision': 0.83,\n",
       " 'recall': 0.88,\n",
       " 'specificity': 0.82,\n",
       " 'f1_score': 0.85}"
      ]
     },
     "execution_count": 54,
     "metadata": {},
     "output_type": "execute_result"
    }
   ],
   "source": [
    "cls.score(test_x, test_y)"
   ]
  }
 ],
 "metadata": {
  "kernelspec": {
   "display_name": "Python 3",
   "language": "python",
   "name": "python3"
  },
  "language_info": {
   "codemirror_mode": {
    "name": "ipython",
    "version": 3
   },
   "file_extension": ".py",
   "mimetype": "text/x-python",
   "name": "python",
   "nbconvert_exporter": "python",
   "pygments_lexer": "ipython3",
   "version": "3.10.6"
  },
  "orig_nbformat": 4,
  "vscode": {
   "interpreter": {
    "hash": "916dbcbb3f70747c44a77c7bcd40155683ae19c65e1c03b4aa3499c5328201f1"
   }
  }
 },
 "nbformat": 4,
 "nbformat_minor": 2
}
