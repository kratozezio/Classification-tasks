{
 "cells": [
  {
   "attachments": {},
   "cell_type": "markdown",
   "metadata": {},
   "source": [
    "### Import libraries"
   ]
  },
  {
   "cell_type": "code",
   "execution_count": 1,
   "metadata": {},
   "outputs": [
    {
     "name": "stderr",
     "output_type": "stream",
     "text": [
      "/home/vignesh-pt6720/.local/lib/python3.10/site-packages/tqdm/auto.py:22: TqdmWarning: IProgress not found. Please update jupyter and ipywidgets. See https://ipywidgets.readthedocs.io/en/stable/user_install.html\n",
      "  from .autonotebook import tqdm as notebook_tqdm\n"
     ]
    }
   ],
   "source": [
    "import torch\n",
    "from typing import Tuple, Dict, List\n",
    "import pandas as pd\n",
    "import csv\n",
    "import json\n",
    "from matplotlib import pyplot as plt\n",
    "import re\n",
    "import string\n",
    "from nltk.corpus import stopwords\n",
    "from nltk.tokenize import word_tokenize\n",
    "from sklearn.feature_extraction.text import TfidfVectorizer\n",
    "from sklearn.preprocessing import MultiLabelBinarizer\n",
    "import numpy as np\n",
    "from dataclasses import dataclass, field"
   ]
  },
  {
   "cell_type": "code",
   "execution_count": 2,
   "metadata": {},
   "outputs": [],
   "source": [
    "pd.set_option(\"display.max_colwidth\", 300)"
   ]
  },
  {
   "attachments": {},
   "cell_type": "markdown",
   "metadata": {},
   "source": [
    "### Data loading and exploratory analysis"
   ]
  },
  {
   "cell_type": "code",
   "execution_count": 3,
   "metadata": {},
   "outputs": [],
   "source": [
    "meta = pd.read_csv(\n",
    "    \"../../datasets/MovieSummaries/movie.metadata.tsv\", sep=\"\\t\", header=None\n",
    ")"
   ]
  },
  {
   "cell_type": "code",
   "execution_count": 4,
   "metadata": {},
   "outputs": [
    {
     "data": {
      "text/html": [
       "<div>\n",
       "<style scoped>\n",
       "    .dataframe tbody tr th:only-of-type {\n",
       "        vertical-align: middle;\n",
       "    }\n",
       "\n",
       "    .dataframe tbody tr th {\n",
       "        vertical-align: top;\n",
       "    }\n",
       "\n",
       "    .dataframe thead th {\n",
       "        text-align: right;\n",
       "    }\n",
       "</style>\n",
       "<table border=\"1\" class=\"dataframe\">\n",
       "  <thead>\n",
       "    <tr style=\"text-align: right;\">\n",
       "      <th></th>\n",
       "      <th>0</th>\n",
       "      <th>1</th>\n",
       "      <th>2</th>\n",
       "      <th>3</th>\n",
       "      <th>4</th>\n",
       "      <th>5</th>\n",
       "      <th>6</th>\n",
       "      <th>7</th>\n",
       "      <th>8</th>\n",
       "    </tr>\n",
       "  </thead>\n",
       "  <tbody>\n",
       "    <tr>\n",
       "      <th>0</th>\n",
       "      <td>975900</td>\n",
       "      <td>/m/03vyhn</td>\n",
       "      <td>Ghosts of Mars</td>\n",
       "      <td>2001-08-24</td>\n",
       "      <td>14010832.0</td>\n",
       "      <td>98.0</td>\n",
       "      <td>{\"/m/02h40lc\": \"English Language\"}</td>\n",
       "      <td>{\"/m/09c7w0\": \"United States of America\"}</td>\n",
       "      <td>{\"/m/01jfsb\": \"Thriller\", \"/m/06n90\": \"Science Fiction\", \"/m/03npn\": \"Horror\", \"/m/03k9fj\": \"Adventure\", \"/m/0fdjb\": \"Supernatural\", \"/m/02kdv5l\": \"Action\", \"/m/09zvmj\": \"Space western\"}</td>\n",
       "    </tr>\n",
       "    <tr>\n",
       "      <th>1</th>\n",
       "      <td>3196793</td>\n",
       "      <td>/m/08yl5d</td>\n",
       "      <td>Getting Away with Murder: The JonBenét Ramsey Mystery</td>\n",
       "      <td>2000-02-16</td>\n",
       "      <td>NaN</td>\n",
       "      <td>95.0</td>\n",
       "      <td>{\"/m/02h40lc\": \"English Language\"}</td>\n",
       "      <td>{\"/m/09c7w0\": \"United States of America\"}</td>\n",
       "      <td>{\"/m/02n4kr\": \"Mystery\", \"/m/03bxz7\": \"Biographical film\", \"/m/07s9rl0\": \"Drama\", \"/m/0hj3n01\": \"Crime Drama\"}</td>\n",
       "    </tr>\n",
       "    <tr>\n",
       "      <th>2</th>\n",
       "      <td>28463795</td>\n",
       "      <td>/m/0crgdbh</td>\n",
       "      <td>Brun bitter</td>\n",
       "      <td>1988</td>\n",
       "      <td>NaN</td>\n",
       "      <td>83.0</td>\n",
       "      <td>{\"/m/05f_3\": \"Norwegian Language\"}</td>\n",
       "      <td>{\"/m/05b4w\": \"Norway\"}</td>\n",
       "      <td>{\"/m/0lsxr\": \"Crime Fiction\", \"/m/07s9rl0\": \"Drama\"}</td>\n",
       "    </tr>\n",
       "    <tr>\n",
       "      <th>3</th>\n",
       "      <td>9363483</td>\n",
       "      <td>/m/0285_cd</td>\n",
       "      <td>White Of The Eye</td>\n",
       "      <td>1987</td>\n",
       "      <td>NaN</td>\n",
       "      <td>110.0</td>\n",
       "      <td>{\"/m/02h40lc\": \"English Language\"}</td>\n",
       "      <td>{\"/m/07ssc\": \"United Kingdom\"}</td>\n",
       "      <td>{\"/m/01jfsb\": \"Thriller\", \"/m/0glj9q\": \"Erotic thriller\", \"/m/09blyk\": \"Psychological thriller\"}</td>\n",
       "    </tr>\n",
       "    <tr>\n",
       "      <th>4</th>\n",
       "      <td>261236</td>\n",
       "      <td>/m/01mrr1</td>\n",
       "      <td>A Woman in Flames</td>\n",
       "      <td>1983</td>\n",
       "      <td>NaN</td>\n",
       "      <td>106.0</td>\n",
       "      <td>{\"/m/04306rv\": \"German Language\"}</td>\n",
       "      <td>{\"/m/0345h\": \"Germany\"}</td>\n",
       "      <td>{\"/m/07s9rl0\": \"Drama\"}</td>\n",
       "    </tr>\n",
       "  </tbody>\n",
       "</table>\n",
       "</div>"
      ],
      "text/plain": [
       "          0           1  \\\n",
       "0    975900   /m/03vyhn   \n",
       "1   3196793   /m/08yl5d   \n",
       "2  28463795  /m/0crgdbh   \n",
       "3   9363483  /m/0285_cd   \n",
       "4    261236   /m/01mrr1   \n",
       "\n",
       "                                                       2           3  \\\n",
       "0                                         Ghosts of Mars  2001-08-24   \n",
       "1  Getting Away with Murder: The JonBenét Ramsey Mystery  2000-02-16   \n",
       "2                                            Brun bitter        1988   \n",
       "3                                       White Of The Eye        1987   \n",
       "4                                      A Woman in Flames        1983   \n",
       "\n",
       "            4      5                                   6  \\\n",
       "0  14010832.0   98.0  {\"/m/02h40lc\": \"English Language\"}   \n",
       "1         NaN   95.0  {\"/m/02h40lc\": \"English Language\"}   \n",
       "2         NaN   83.0  {\"/m/05f_3\": \"Norwegian Language\"}   \n",
       "3         NaN  110.0  {\"/m/02h40lc\": \"English Language\"}   \n",
       "4         NaN  106.0   {\"/m/04306rv\": \"German Language\"}   \n",
       "\n",
       "                                           7  \\\n",
       "0  {\"/m/09c7w0\": \"United States of America\"}   \n",
       "1  {\"/m/09c7w0\": \"United States of America\"}   \n",
       "2                     {\"/m/05b4w\": \"Norway\"}   \n",
       "3             {\"/m/07ssc\": \"United Kingdom\"}   \n",
       "4                    {\"/m/0345h\": \"Germany\"}   \n",
       "\n",
       "                                                                                                                                                                                            8  \n",
       "0  {\"/m/01jfsb\": \"Thriller\", \"/m/06n90\": \"Science Fiction\", \"/m/03npn\": \"Horror\", \"/m/03k9fj\": \"Adventure\", \"/m/0fdjb\": \"Supernatural\", \"/m/02kdv5l\": \"Action\", \"/m/09zvmj\": \"Space western\"}  \n",
       "1                                                                              {\"/m/02n4kr\": \"Mystery\", \"/m/03bxz7\": \"Biographical film\", \"/m/07s9rl0\": \"Drama\", \"/m/0hj3n01\": \"Crime Drama\"}  \n",
       "2                                                                                                                                        {\"/m/0lsxr\": \"Crime Fiction\", \"/m/07s9rl0\": \"Drama\"}  \n",
       "3                                                                                            {\"/m/01jfsb\": \"Thriller\", \"/m/0glj9q\": \"Erotic thriller\", \"/m/09blyk\": \"Psychological thriller\"}  \n",
       "4                                                                                                                                                                     {\"/m/07s9rl0\": \"Drama\"}  "
      ]
     },
     "execution_count": 4,
     "metadata": {},
     "output_type": "execute_result"
    }
   ],
   "source": [
    "meta.head()"
   ]
  },
  {
   "cell_type": "code",
   "execution_count": 5,
   "metadata": {},
   "outputs": [
    {
     "data": {
      "text/html": [
       "<div>\n",
       "<style scoped>\n",
       "    .dataframe tbody tr th:only-of-type {\n",
       "        vertical-align: middle;\n",
       "    }\n",
       "\n",
       "    .dataframe tbody tr th {\n",
       "        vertical-align: top;\n",
       "    }\n",
       "\n",
       "    .dataframe thead th {\n",
       "        text-align: right;\n",
       "    }\n",
       "</style>\n",
       "<table border=\"1\" class=\"dataframe\">\n",
       "  <thead>\n",
       "    <tr style=\"text-align: right;\">\n",
       "      <th></th>\n",
       "      <th>movie_id</th>\n",
       "      <th>genre</th>\n",
       "    </tr>\n",
       "  </thead>\n",
       "  <tbody>\n",
       "    <tr>\n",
       "      <th>0</th>\n",
       "      <td>975900</td>\n",
       "      <td>{\"/m/01jfsb\": \"Thriller\", \"/m/06n90\": \"Science Fiction\", \"/m/03npn\": \"Horror\", \"/m/03k9fj\": \"Adventure\", \"/m/0fdjb\": \"Supernatural\", \"/m/02kdv5l\": \"Action\", \"/m/09zvmj\": \"Space western\"}</td>\n",
       "    </tr>\n",
       "    <tr>\n",
       "      <th>1</th>\n",
       "      <td>3196793</td>\n",
       "      <td>{\"/m/02n4kr\": \"Mystery\", \"/m/03bxz7\": \"Biographical film\", \"/m/07s9rl0\": \"Drama\", \"/m/0hj3n01\": \"Crime Drama\"}</td>\n",
       "    </tr>\n",
       "    <tr>\n",
       "      <th>2</th>\n",
       "      <td>28463795</td>\n",
       "      <td>{\"/m/0lsxr\": \"Crime Fiction\", \"/m/07s9rl0\": \"Drama\"}</td>\n",
       "    </tr>\n",
       "    <tr>\n",
       "      <th>3</th>\n",
       "      <td>9363483</td>\n",
       "      <td>{\"/m/01jfsb\": \"Thriller\", \"/m/0glj9q\": \"Erotic thriller\", \"/m/09blyk\": \"Psychological thriller\"}</td>\n",
       "    </tr>\n",
       "    <tr>\n",
       "      <th>4</th>\n",
       "      <td>261236</td>\n",
       "      <td>{\"/m/07s9rl0\": \"Drama\"}</td>\n",
       "    </tr>\n",
       "  </tbody>\n",
       "</table>\n",
       "</div>"
      ],
      "text/plain": [
       "   movie_id  \\\n",
       "0    975900   \n",
       "1   3196793   \n",
       "2  28463795   \n",
       "3   9363483   \n",
       "4    261236   \n",
       "\n",
       "                                                                                                                                                                                        genre  \n",
       "0  {\"/m/01jfsb\": \"Thriller\", \"/m/06n90\": \"Science Fiction\", \"/m/03npn\": \"Horror\", \"/m/03k9fj\": \"Adventure\", \"/m/0fdjb\": \"Supernatural\", \"/m/02kdv5l\": \"Action\", \"/m/09zvmj\": \"Space western\"}  \n",
       "1                                                                              {\"/m/02n4kr\": \"Mystery\", \"/m/03bxz7\": \"Biographical film\", \"/m/07s9rl0\": \"Drama\", \"/m/0hj3n01\": \"Crime Drama\"}  \n",
       "2                                                                                                                                        {\"/m/0lsxr\": \"Crime Fiction\", \"/m/07s9rl0\": \"Drama\"}  \n",
       "3                                                                                            {\"/m/01jfsb\": \"Thriller\", \"/m/0glj9q\": \"Erotic thriller\", \"/m/09blyk\": \"Psychological thriller\"}  \n",
       "4                                                                                                                                                                     {\"/m/07s9rl0\": \"Drama\"}  "
      ]
     },
     "execution_count": 5,
     "metadata": {},
     "output_type": "execute_result"
    }
   ],
   "source": [
    "meta.columns = [\"movie_id\", 1, 2, 3, 4, 5, 6, 7, \"genre\"]\n",
    "meta = meta[[\"movie_id\", \"genre\"]]\n",
    "meta[\"movie_id\"] = meta[\"movie_id\"].astype(str)\n",
    "meta.head()"
   ]
  },
  {
   "cell_type": "code",
   "execution_count": 6,
   "metadata": {},
   "outputs": [],
   "source": [
    "rows = []\n",
    "plots = []\n",
    "movie_ids = []\n",
    "\n",
    "# Read plot summaries\n",
    "with open(\"../../datasets/MovieSummaries/plot_summaries.txt\", \"r\") as f:\n",
    "    reader = csv.reader(f, dialect=\"excel-tab\")\n",
    "    for row in reader:\n",
    "        rows.append(row)\n",
    "\n",
    "for i in rows:\n",
    "    movie_ids.append(i[0])\n",
    "    plots.append(i[1])"
   ]
  },
  {
   "attachments": {},
   "cell_type": "markdown",
   "metadata": {},
   "source": [
    "Combine plot summaries and genres"
   ]
  },
  {
   "cell_type": "code",
   "execution_count": 7,
   "metadata": {},
   "outputs": [
    {
     "data": {
      "text/html": [
       "<div>\n",
       "<style scoped>\n",
       "    .dataframe tbody tr th:only-of-type {\n",
       "        vertical-align: middle;\n",
       "    }\n",
       "\n",
       "    .dataframe tbody tr th {\n",
       "        vertical-align: top;\n",
       "    }\n",
       "\n",
       "    .dataframe thead th {\n",
       "        text-align: right;\n",
       "    }\n",
       "</style>\n",
       "<table border=\"1\" class=\"dataframe\">\n",
       "  <thead>\n",
       "    <tr style=\"text-align: right;\">\n",
       "      <th></th>\n",
       "      <th>movie_id</th>\n",
       "      <th>plot</th>\n",
       "      <th>genre</th>\n",
       "    </tr>\n",
       "  </thead>\n",
       "  <tbody>\n",
       "    <tr>\n",
       "      <th>0</th>\n",
       "      <td>23890098</td>\n",
       "      <td>Shlykov, a hard-working taxi driver and Lyosha, a saxophonist, develop a bizarre love-hate relationship, and despite their prejudices, realize they aren't so different after all.</td>\n",
       "      <td>{\"/m/07s9rl0\": \"Drama\", \"/m/03q4nz\": \"World cinema\"}</td>\n",
       "    </tr>\n",
       "    <tr>\n",
       "      <th>1</th>\n",
       "      <td>31186339</td>\n",
       "      <td>The nation of Panem consists of a wealthy Capitol and twelve poorer districts. As punishment for a past rebellion, each district must provide a boy and girl  between the ages of 12 and 18 selected by lottery  for the annual Hunger Games. The tributes must fight to the death in an arena; the sole...</td>\n",
       "      <td>{\"/m/03btsm8\": \"Action/Adventure\", \"/m/06n90\": \"Science Fiction\", \"/m/02kdv5l\": \"Action\", \"/m/07s9rl0\": \"Drama\"}</td>\n",
       "    </tr>\n",
       "    <tr>\n",
       "      <th>2</th>\n",
       "      <td>20663735</td>\n",
       "      <td>Poovalli Induchoodan  is sentenced for six years prison life for murdering his classmate. Induchoodan, the only son of Justice Maranchery Karunakara Menon  was framed in the case by Manapally Madhavan Nambiar  and his crony DYSP Sankaranarayanan  to take revenge on idealist judge Menon who had e...</td>\n",
       "      <td>{\"/m/04t36\": \"Musical\", \"/m/02kdv5l\": \"Action\", \"/m/07s9rl0\": \"Drama\", \"/m/01chg\": \"Bollywood\"}</td>\n",
       "    </tr>\n",
       "    <tr>\n",
       "      <th>3</th>\n",
       "      <td>2231378</td>\n",
       "      <td>The Lemon Drop Kid , a New York City swindler, is illegally touting horses at a Florida racetrack. After several successful hustles, the Kid comes across a beautiful, but gullible, woman intending to bet a lot of money. The Kid convinces her to switch her bet, employing a prefabricated con. Unfo...</td>\n",
       "      <td>{\"/m/06qm3\": \"Screwball comedy\", \"/m/01z4y\": \"Comedy\"}</td>\n",
       "    </tr>\n",
       "    <tr>\n",
       "      <th>4</th>\n",
       "      <td>595909</td>\n",
       "      <td>Seventh-day Adventist Church pastor Michael Chamberlain, his wife Lindy, their two sons, and their nine-week-old daughter Azaria are on a camping holiday in the Outback. With the baby sleeping in their tent, the family is enjoying a barbecue with their fellow campers when a cry is heard. Lindy r...</td>\n",
       "      <td>{\"/m/0lsxr\": \"Crime Fiction\", \"/m/07s9rl0\": \"Drama\", \"/m/01f9r0\": \"Docudrama\", \"/m/03q4nz\": \"World cinema\", \"/m/05bh16v\": \"Courtroom Drama\"}</td>\n",
       "    </tr>\n",
       "  </tbody>\n",
       "</table>\n",
       "</div>"
      ],
      "text/plain": [
       "   movie_id  \\\n",
       "0  23890098   \n",
       "1  31186339   \n",
       "2  20663735   \n",
       "3   2231378   \n",
       "4    595909   \n",
       "\n",
       "                                                                                                                                                                                                                                                                                                          plot  \\\n",
       "0                                                                                                                           Shlykov, a hard-working taxi driver and Lyosha, a saxophonist, develop a bizarre love-hate relationship, and despite their prejudices, realize they aren't so different after all.   \n",
       "1  The nation of Panem consists of a wealthy Capitol and twelve poorer districts. As punishment for a past rebellion, each district must provide a boy and girl  between the ages of 12 and 18 selected by lottery  for the annual Hunger Games. The tributes must fight to the death in an arena; the sole...   \n",
       "2  Poovalli Induchoodan  is sentenced for six years prison life for murdering his classmate. Induchoodan, the only son of Justice Maranchery Karunakara Menon  was framed in the case by Manapally Madhavan Nambiar  and his crony DYSP Sankaranarayanan  to take revenge on idealist judge Menon who had e...   \n",
       "3  The Lemon Drop Kid , a New York City swindler, is illegally touting horses at a Florida racetrack. After several successful hustles, the Kid comes across a beautiful, but gullible, woman intending to bet a lot of money. The Kid convinces her to switch her bet, employing a prefabricated con. Unfo...   \n",
       "4  Seventh-day Adventist Church pastor Michael Chamberlain, his wife Lindy, their two sons, and their nine-week-old daughter Azaria are on a camping holiday in the Outback. With the baby sleeping in their tent, the family is enjoying a barbecue with their fellow campers when a cry is heard. Lindy r...   \n",
       "\n",
       "                                                                                                                                          genre  \n",
       "0                                                                                          {\"/m/07s9rl0\": \"Drama\", \"/m/03q4nz\": \"World cinema\"}  \n",
       "1                              {\"/m/03btsm8\": \"Action/Adventure\", \"/m/06n90\": \"Science Fiction\", \"/m/02kdv5l\": \"Action\", \"/m/07s9rl0\": \"Drama\"}  \n",
       "2                                               {\"/m/04t36\": \"Musical\", \"/m/02kdv5l\": \"Action\", \"/m/07s9rl0\": \"Drama\", \"/m/01chg\": \"Bollywood\"}  \n",
       "3                                                                                        {\"/m/06qm3\": \"Screwball comedy\", \"/m/01z4y\": \"Comedy\"}  \n",
       "4  {\"/m/0lsxr\": \"Crime Fiction\", \"/m/07s9rl0\": \"Drama\", \"/m/01f9r0\": \"Docudrama\", \"/m/03q4nz\": \"World cinema\", \"/m/05bh16v\": \"Courtroom Drama\"}  "
      ]
     },
     "execution_count": 7,
     "metadata": {},
     "output_type": "execute_result"
    }
   ],
   "source": [
    "movies = pd.DataFrame({\"movie_id\": movie_ids, \"plot\": plots})\n",
    "movies = pd.merge(movies, meta, on=\"movie_id\")\n",
    "movies.head()"
   ]
  },
  {
   "cell_type": "code",
   "execution_count": 8,
   "metadata": {},
   "outputs": [],
   "source": [
    "cleaned_genres = []\n",
    "for i in movies[\"genre\"]:\n",
    "    cleaned_genres.append(\n",
    "        list(json.loads(i).values())\n",
    "    )  # Convert genres from json to list\n",
    "\n",
    "movies[\"cleaned_genre\"] = cleaned_genres"
   ]
  },
  {
   "attachments": {},
   "cell_type": "markdown",
   "metadata": {},
   "source": [
    "Remove data having no genres"
   ]
  },
  {
   "cell_type": "code",
   "execution_count": 9,
   "metadata": {},
   "outputs": [
    {
     "name": "stdout",
     "output_type": "stream",
     "text": [
      "Before: (42204, 4)\n",
      "After: (41793, 4)\n"
     ]
    }
   ],
   "source": [
    "print(f\"Before: {movies.shape}\")\n",
    "movies = movies[(movies[\"cleaned_genre\"].str.len() != 0)]\n",
    "print(f\"After: {movies.shape}\")"
   ]
  },
  {
   "cell_type": "code",
   "execution_count": 10,
   "metadata": {},
   "outputs": [
    {
     "data": {
      "text/html": [
       "<div>\n",
       "<style scoped>\n",
       "    .dataframe tbody tr th:only-of-type {\n",
       "        vertical-align: middle;\n",
       "    }\n",
       "\n",
       "    .dataframe tbody tr th {\n",
       "        vertical-align: top;\n",
       "    }\n",
       "\n",
       "    .dataframe thead th {\n",
       "        text-align: right;\n",
       "    }\n",
       "</style>\n",
       "<table border=\"1\" class=\"dataframe\">\n",
       "  <thead>\n",
       "    <tr style=\"text-align: right;\">\n",
       "      <th></th>\n",
       "      <th>movie_id</th>\n",
       "      <th>plot</th>\n",
       "      <th>cleaned_genre</th>\n",
       "    </tr>\n",
       "  </thead>\n",
       "  <tbody>\n",
       "    <tr>\n",
       "      <th>0</th>\n",
       "      <td>23890098</td>\n",
       "      <td>Shlykov, a hard-working taxi driver and Lyosha, a saxophonist, develop a bizarre love-hate relationship, and despite their prejudices, realize they aren't so different after all.</td>\n",
       "      <td>[Drama, World cinema]</td>\n",
       "    </tr>\n",
       "    <tr>\n",
       "      <th>1</th>\n",
       "      <td>31186339</td>\n",
       "      <td>The nation of Panem consists of a wealthy Capitol and twelve poorer districts. As punishment for a past rebellion, each district must provide a boy and girl  between the ages of 12 and 18 selected by lottery  for the annual Hunger Games. The tributes must fight to the death in an arena; the sole...</td>\n",
       "      <td>[Action/Adventure, Science Fiction, Action, Drama]</td>\n",
       "    </tr>\n",
       "    <tr>\n",
       "      <th>2</th>\n",
       "      <td>20663735</td>\n",
       "      <td>Poovalli Induchoodan  is sentenced for six years prison life for murdering his classmate. Induchoodan, the only son of Justice Maranchery Karunakara Menon  was framed in the case by Manapally Madhavan Nambiar  and his crony DYSP Sankaranarayanan  to take revenge on idealist judge Menon who had e...</td>\n",
       "      <td>[Musical, Action, Drama, Bollywood]</td>\n",
       "    </tr>\n",
       "    <tr>\n",
       "      <th>3</th>\n",
       "      <td>2231378</td>\n",
       "      <td>The Lemon Drop Kid , a New York City swindler, is illegally touting horses at a Florida racetrack. After several successful hustles, the Kid comes across a beautiful, but gullible, woman intending to bet a lot of money. The Kid convinces her to switch her bet, employing a prefabricated con. Unfo...</td>\n",
       "      <td>[Screwball comedy, Comedy]</td>\n",
       "    </tr>\n",
       "    <tr>\n",
       "      <th>4</th>\n",
       "      <td>595909</td>\n",
       "      <td>Seventh-day Adventist Church pastor Michael Chamberlain, his wife Lindy, their two sons, and their nine-week-old daughter Azaria are on a camping holiday in the Outback. With the baby sleeping in their tent, the family is enjoying a barbecue with their fellow campers when a cry is heard. Lindy r...</td>\n",
       "      <td>[Crime Fiction, Drama, Docudrama, World cinema, Courtroom Drama]</td>\n",
       "    </tr>\n",
       "  </tbody>\n",
       "</table>\n",
       "</div>"
      ],
      "text/plain": [
       "   movie_id  \\\n",
       "0  23890098   \n",
       "1  31186339   \n",
       "2  20663735   \n",
       "3   2231378   \n",
       "4    595909   \n",
       "\n",
       "                                                                                                                                                                                                                                                                                                          plot  \\\n",
       "0                                                                                                                           Shlykov, a hard-working taxi driver and Lyosha, a saxophonist, develop a bizarre love-hate relationship, and despite their prejudices, realize they aren't so different after all.   \n",
       "1  The nation of Panem consists of a wealthy Capitol and twelve poorer districts. As punishment for a past rebellion, each district must provide a boy and girl  between the ages of 12 and 18 selected by lottery  for the annual Hunger Games. The tributes must fight to the death in an arena; the sole...   \n",
       "2  Poovalli Induchoodan  is sentenced for six years prison life for murdering his classmate. Induchoodan, the only son of Justice Maranchery Karunakara Menon  was framed in the case by Manapally Madhavan Nambiar  and his crony DYSP Sankaranarayanan  to take revenge on idealist judge Menon who had e...   \n",
       "3  The Lemon Drop Kid , a New York City swindler, is illegally touting horses at a Florida racetrack. After several successful hustles, the Kid comes across a beautiful, but gullible, woman intending to bet a lot of money. The Kid convinces her to switch her bet, employing a prefabricated con. Unfo...   \n",
       "4  Seventh-day Adventist Church pastor Michael Chamberlain, his wife Lindy, their two sons, and their nine-week-old daughter Azaria are on a camping holiday in the Outback. With the baby sleeping in their tent, the family is enjoying a barbecue with their fellow campers when a cry is heard. Lindy r...   \n",
       "\n",
       "                                                      cleaned_genre  \n",
       "0                                             [Drama, World cinema]  \n",
       "1                [Action/Adventure, Science Fiction, Action, Drama]  \n",
       "2                               [Musical, Action, Drama, Bollywood]  \n",
       "3                                        [Screwball comedy, Comedy]  \n",
       "4  [Crime Fiction, Drama, Docudrama, World cinema, Courtroom Drama]  "
      ]
     },
     "execution_count": 10,
     "metadata": {},
     "output_type": "execute_result"
    }
   ],
   "source": [
    "movies = movies.drop(\"genre\", axis=1)  # Drop old genres\n",
    "movies.head()"
   ]
  },
  {
   "cell_type": "code",
   "execution_count": 11,
   "metadata": {},
   "outputs": [],
   "source": [
    "all_genres = []\n",
    "genre_freq = {}\n",
    "\n",
    "for row in movies[\"cleaned_genre\"]:\n",
    "    for genre in row:\n",
    "        if genre not in all_genres:\n",
    "            all_genres.append(genre)\n",
    "            genre_freq[genre] = 1\n",
    "        else:\n",
    "            genre_freq[genre] += 1"
   ]
  },
  {
   "cell_type": "code",
   "execution_count": 12,
   "metadata": {},
   "outputs": [
    {
     "name": "stdout",
     "output_type": "stream",
     "text": [
      "No. of unique genres(output class): 363\n"
     ]
    }
   ],
   "source": [
    "print(f\"No. of unique genres(output class): {len(all_genres)}\")"
   ]
  },
  {
   "cell_type": "code",
   "execution_count": 13,
   "metadata": {},
   "outputs": [
    {
     "data": {
      "text/plain": [
       "{'Drama': 19134,\n",
       " 'Comedy': 10467,\n",
       " 'Romance Film': 6666,\n",
       " 'Thriller': 6530,\n",
       " 'Action': 5868,\n",
       " 'World cinema': 5153,\n",
       " 'Crime Fiction': 4275,\n",
       " 'Horror': 4082,\n",
       " 'Black-and-white': 3731,\n",
       " 'Indie': 3668}"
      ]
     },
     "execution_count": 13,
     "metadata": {},
     "output_type": "execute_result"
    }
   ],
   "source": [
    "top_genres = dict(\n",
    "    sorted(genre_freq.items(), key=lambda x: x[1], reverse=True)[:10]\n",
    ")  # Find the top ten genres and sort them\n",
    "top_genres"
   ]
  },
  {
   "cell_type": "code",
   "execution_count": 14,
   "metadata": {},
   "outputs": [
    {
     "data": {
      "image/png": "[encoded data removed]",
      "text/plain": [
       "<Figure size 900x500 with 1 Axes>"
      ]
     },
     "metadata": {},
     "output_type": "display_data"
    }
   ],
   "source": [
    "plt.subplots(figsize=(18, 10), dpi=50)\n",
    "plt.title(\"Most Frequent Genres\")\n",
    "plt.xlabel(\"Genre\")\n",
    "plt.ylabel(\"Count\")\n",
    "plt.bar(top_genres.keys(), top_genres.values())\n",
    "plt.show()"
   ]
  },
  {
   "attachments": {},
   "cell_type": "markdown",
   "metadata": {},
   "source": [
    "### Data preprocessing"
   ]
  },
  {
   "cell_type": "code",
   "execution_count": 15,
   "metadata": {},
   "outputs": [],
   "source": [
    "def preprocess(text: str) -> str:\n",
    "    \"\"\"\n",
    "    Function to preproces text\n",
    "\n",
    "    Parameters\n",
    "    ----------\n",
    "    text: `str`\n",
    "        Text that is to be preprocessed\n",
    "\n",
    "    Returns\n",
    "    -------\n",
    "    text: `str`\n",
    "        Preprocessed text\n",
    "    \"\"\"\n",
    "\n",
    "    text = text.lower()\n",
    "    text = text.translate(\n",
    "        str.maketrans(string.punctuation, \" \" * len(string.punctuation))\n",
    "    )  # Remove punctuations\n",
    "    text = re.sub(r\"\\d\", \"\", text)  # Remove digits\n",
    "\n",
    "    words = word_tokenize(text)\n",
    "    stopwords_english = stopwords.words(\"English\")\n",
    "    for word in words:\n",
    "        if word in stopwords_english:\n",
    "            text = re.sub(r\"\\b%s\\b\" % word, \"\", text)  # Remove stop words\n",
    "\n",
    "    text = re.sub(\" +\", \" \", text)  # Remove extra spaces\n",
    "\n",
    "    return text"
   ]
  },
  {
   "cell_type": "code",
   "execution_count": 16,
   "metadata": {},
   "outputs": [
    {
     "name": "stdout",
     "output_type": "stream",
     "text": [
      "Before cleanup:  Shlykov, a hard-working taxi driver and Lyosha, a saxophonist, develop a bizarre love-hate relationship, and despite their prejudices, realize they aren't so different after all.\n",
      "After cleanup:  shlykov hard working taxi driver lyosha saxophonist develop bizarre love hate relationship despite prejudices realize different \n"
     ]
    }
   ],
   "source": [
    "print(\"Before cleanup: \", movies[\"plot\"][0])\n",
    "movies[\"plot\"] = movies[\"plot\"].map(preprocess)\n",
    "print(\"After cleanup: \", movies[\"plot\"][0])"
   ]
  },
  {
   "attachments": {},
   "cell_type": "markdown",
   "metadata": {},
   "source": [
    "### Create word vocabulary"
   ]
  },
  {
   "cell_type": "code",
   "execution_count": 17,
   "metadata": {},
   "outputs": [],
   "source": [
    "def create_vocab(df: pd.DataFrame) -> Dict[str, int]:\n",
    "    \"\"\"\n",
    "    Function used to create a vocabulary of all words with their counts in the given corpus\n",
    "\n",
    "    Parameters\n",
    "    ----------\n",
    "    df: `pd.DataFrame`\n",
    "        Dataframe object containing the corpus\n",
    "\n",
    "    Returns\n",
    "    -------\n",
    "    vocab: `Dict[str, int]`\n",
    "        Vocabulary containing all words with their counts\n",
    "    \"\"\"\n",
    "\n",
    "    vocab = {}\n",
    "    stopwords_english = stopwords.words(\"English\")\n",
    "    for plot in df.values:\n",
    "        words = word_tokenize(plot)\n",
    "        for word in words:\n",
    "            if word not in stopwords_english:\n",
    "                if word not in vocab:\n",
    "                    vocab[word] = 1\n",
    "                else:\n",
    "                    vocab[word] += 1\n",
    "\n",
    "    return vocab"
   ]
  },
  {
   "cell_type": "code",
   "execution_count": 18,
   "metadata": {},
   "outputs": [],
   "source": [
    "vocab = create_vocab(movies[\"plot\"])"
   ]
  },
  {
   "cell_type": "code",
   "execution_count": 19,
   "metadata": {},
   "outputs": [
    {
     "data": {
      "text/plain": [
       "{'one': 32077,\n",
       " 'back': 24375,\n",
       " 'two': 22025,\n",
       " 'film': 21235,\n",
       " 'father': 21205,\n",
       " 'man': 19735,\n",
       " 'tells': 18937,\n",
       " 'time': 18113,\n",
       " 'life': 17588,\n",
       " 'new': 17239}"
      ]
     },
     "execution_count": 19,
     "metadata": {},
     "output_type": "execute_result"
    }
   ],
   "source": [
    "top_words = dict(\n",
    "    sorted(vocab.items(), key=lambda x: x[1], reverse=True)[:10]\n",
    ")  # List top ten words\n",
    "top_words"
   ]
  },
  {
   "cell_type": "code",
   "execution_count": 20,
   "metadata": {},
   "outputs": [
    {
     "data": {
      "image/png": "[encoded data removed]",
      "text/plain": [
       "<Figure size 640x480 with 1 Axes>"
      ]
     },
     "metadata": {},
     "output_type": "display_data"
    }
   ],
   "source": [
    "plt.bar(top_words.keys(), top_words.values())\n",
    "plt.title(\"Most Frequent Words\")\n",
    "plt.xlabel(\"Word\")\n",
    "plt.ylabel(\"Count\")\n",
    "plt.show()"
   ]
  },
  {
   "attachments": {},
   "cell_type": "markdown",
   "metadata": {},
   "source": [
    "### Split data into train and test sets"
   ]
  },
  {
   "cell_type": "code",
   "execution_count": 21,
   "metadata": {},
   "outputs": [],
   "source": [
    "train = movies.sample(frac=0.7)\n",
    "test = movies.drop(train.index)\n",
    "train = train.reset_index(drop=True)\n",
    "test = test.reset_index(drop=True)"
   ]
  },
  {
   "cell_type": "code",
   "execution_count": 22,
   "metadata": {},
   "outputs": [
    {
     "name": "stdout",
     "output_type": "stream",
     "text": [
      "No. of unique classes in training data: 360\n"
     ]
    }
   ],
   "source": [
    "all_genres = []\n",
    "genre_freq = {}\n",
    "\n",
    "for row in train[\"cleaned_genre\"]:\n",
    "    for genre in row:\n",
    "        if genre not in all_genres:\n",
    "            all_genres.append(genre)\n",
    "            genre_freq[genre] = 1\n",
    "        else:\n",
    "            genre_freq[genre] += 1\n",
    "\n",
    "print(f\"No. of unique classes in training data: {len(all_genres)}\")"
   ]
  },
  {
   "attachments": {},
   "cell_type": "markdown",
   "metadata": {},
   "source": [
    "Vectorizing data"
   ]
  },
  {
   "cell_type": "code",
   "execution_count": 23,
   "metadata": {},
   "outputs": [],
   "source": [
    "# Vectorize input data\n",
    "\n",
    "tfidf = TfidfVectorizer(max_features=10000)\n",
    "tfidf.fit(train[\"plot\"])\n",
    "train_x = tfidf.transform(train[\"plot\"])"
   ]
  },
  {
   "cell_type": "code",
   "execution_count": 24,
   "metadata": {},
   "outputs": [],
   "source": [
    "# Vectorize output data\n",
    "\n",
    "mb = MultiLabelBinarizer()\n",
    "train_y = mb.fit_transform(train[\"cleaned_genre\"])\n",
    "train_y = torch.tensor(train_y)"
   ]
  },
  {
   "cell_type": "code",
   "execution_count": 25,
   "metadata": {},
   "outputs": [],
   "source": [
    "# Convert sparse matrix to tensor\n",
    "\n",
    "coo_train = train_x.tocoo()  # convert csr matrix to coordinate matrix\n",
    "values = coo_train.data\n",
    "indices = np.vstack((coo_train.row, coo_train.col))  # veritcally stack rows and columns\n",
    "index = torch.LongTensor(indices)\n",
    "value = torch.FloatTensor(values)\n",
    "shape = coo_train.shape\n",
    "\n",
    "train_x = torch.sparse.FloatTensor(index, value, torch.Size(shape)).to_dense()"
   ]
  },
  {
   "cell_type": "code",
   "execution_count": 26,
   "metadata": {},
   "outputs": [
    {
     "data": {
      "text/plain": [
       "(torch.Size([29255, 10000]), torch.Size([29255, 360]))"
      ]
     },
     "execution_count": 26,
     "metadata": {},
     "output_type": "execute_result"
    }
   ],
   "source": [
    "train_x.shape, train_y.shape"
   ]
  },
  {
   "attachments": {},
   "cell_type": "markdown",
   "metadata": {},
   "source": [
    "### Neural network for multilabel classification"
   ]
  },
  {
   "cell_type": "code",
   "execution_count": 36,
   "metadata": {},
   "outputs": [],
   "source": [
    "def initialize_parameters(layer_dims: List) -> Dict[str, torch.Tensor]:\n",
    "    \"\"\"\n",
    "    Initialize parameters for the neural network\n",
    "\n",
    "    Parameters\n",
    "    ----------\n",
    "    layer_dims: `List`\n",
    "       The number of neurons in each layer as a list\n",
    "       Eg: [10000, 10, 360] => 3 layers with sizes 10000 (input), 10 (hidden), 360 (output)\n",
    "\n",
    "    Returns\n",
    "    -------\n",
    "    params: `Dict[str, torch.Tensor]`\n",
    "       The initial parameters for the neural network\n",
    "    \"\"\"\n",
    "\n",
    "    params = {}\n",
    "\n",
    "    for l in range(1, len(layer_dims)):\n",
    "        params[f\"W{l}\"] = torch.rand(layer_dims[l], layer_dims[l - 1]) * 0.01\n",
    "        params[f\"b{l}\"] = torch.zeros((layer_dims[l], 1))\n",
    "\n",
    "    return params"
   ]
  },
  {
   "cell_type": "code",
   "execution_count": 37,
   "metadata": {},
   "outputs": [],
   "source": [
    "def linear_forward(\n",
    "    A_prev: torch.Tensor, W: torch.Tensor, b: torch.Tensor\n",
    ") -> Tuple[torch.Tensor, Tuple]:\n",
    "    \"\"\"\n",
    "    Computes the linear activation for given parameters\n",
    "\n",
    "    Parameters\n",
    "    ----------\n",
    "    A_prev: `torch.Tensor`\n",
    "        Activations of the previous layer\n",
    "    W: `torch.Tensor`\n",
    "        Weights of current layer\n",
    "    b: `torch.Tensor`\n",
    "        Bias of current layer\n",
    "\n",
    "    Returns\n",
    "    -------\n",
    "    Z: `torch.Tensor`\n",
    "        Linear activation of current layer\n",
    "    cache: `Tuple`\n",
    "        A tuple containing parameters to this function\n",
    "    \"\"\"\n",
    "\n",
    "    Z = torch.mm(W, A_prev) + b\n",
    "    cache = (A_prev, W, b)\n",
    "\n",
    "    return Z, cache"
   ]
  },
  {
   "cell_type": "code",
   "execution_count": 38,
   "metadata": {},
   "outputs": [],
   "source": [
    "def linear_activation_forward(\n",
    "    A_prev: torch.Tensor, W: torch.Tensor, b: torch.Tensor, activation: str\n",
    ") -> Tuple[torch.Tensor, Tuple]:\n",
    "    \"\"\"\n",
    "    Function to compute linear and non-linear activation\n",
    "\n",
    "    Parameters\n",
    "    ----------\n",
    "    A_prev: `torch.Tensor`\n",
    "        Activations of the previous layer\n",
    "    W: `torch.Tensor`\n",
    "        Weights of current layer\n",
    "    b: `torch.Tensor`\n",
    "        Bias of current layer\n",
    "    activation: `str`\n",
    "        Type of activation function used in current layer\n",
    "\n",
    "    Returns\n",
    "    -------\n",
    "    A: `torch.Tensor`\n",
    "        Activations of the current layer\n",
    "    cache: `Tuple`\n",
    "        A tuple containing values required for back propagation\n",
    "    \"\"\"\n",
    "\n",
    "    if activation == \"sigmoid\":\n",
    "        Z, linear_cache = linear_forward(A_prev, W, b)\n",
    "        A, activation_cache = torch.sigmoid(Z), Z\n",
    "    elif activation == \"relu\":\n",
    "        Z, linear_cache = linear_forward(A_prev, W, b)\n",
    "        A, activation_cache = torch.relu(Z), Z\n",
    "    cache = (linear_cache, activation_cache)\n",
    "\n",
    "    return A, cache"
   ]
  },
  {
   "cell_type": "code",
   "execution_count": 39,
   "metadata": {},
   "outputs": [],
   "source": [
    "def L_model_forward(\n",
    "    X: torch.Tensor, params: Dict[str, torch.Tensor]\n",
    ") -> Tuple[torch.Tensor, List]:\n",
    "    \"\"\"\n",
    "    Computes one forward pass\n",
    "\n",
    "    Parameters\n",
    "    ----------\n",
    "    X: `torch.Tensor`\n",
    "        Input data\n",
    "    params: `torch.Tensor`\n",
    "        Parameters of the model\n",
    "\n",
    "    Returns\n",
    "    -------\n",
    "        AL: `torch.Tensor`\n",
    "            Activations of the final layer\n",
    "        caches: `List`\n",
    "            A list of values used for back propagation\n",
    "    \"\"\"\n",
    "\n",
    "    caches = []\n",
    "    L = len(params) // 2\n",
    "    A_prev = X\n",
    "    for l in range(1, L):\n",
    "        A, cache = linear_activation_forward(\n",
    "            A_prev, params[f\"W{l}\"], params[f\"b{l}\"], \"relu\"\n",
    "        )\n",
    "        caches.append(cache)\n",
    "        A_prev = A\n",
    "\n",
    "    AL, cache = linear_activation_forward(\n",
    "        A_prev, params[f\"W{L}\"], params[f\"b{L}\"], \"sigmoid\"\n",
    "    )\n",
    "    caches.append(cache)\n",
    "\n",
    "    return AL, caches"
   ]
  },
  {
   "cell_type": "code",
   "execution_count": 40,
   "metadata": {},
   "outputs": [],
   "source": [
    "def compute_cost(AL: torch.Tensor, Y: torch.Tensor) -> torch.Tensor:\n",
    "    \"\"\"\n",
    "    Computes cost of the model. Uses cross-entropy loss\n",
    "\n",
    "    Parameters\n",
    "    ----------\n",
    "    AL: `torch.Tensor`\n",
    "        Activations of the final layer\n",
    "    Y: `torch.Tensor`\n",
    "        Actual values that are to be predicted\n",
    "\n",
    "    Returns\n",
    "    -------\n",
    "    cost: `torch.Tensor`\n",
    "        Cost of the model\n",
    "    \"\"\"\n",
    "\n",
    "    cost = -torch.mean(\n",
    "        (\n",
    "            (Y * torch.log(AL).transpose(0, 1))\n",
    "            + ((1 - Y) * torch.log(1 - AL).transpose(0, 1))\n",
    "        )\n",
    "    )\n",
    "\n",
    "    return torch.squeeze(cost)"
   ]
  },
  {
   "cell_type": "code",
   "execution_count": 41,
   "metadata": {},
   "outputs": [],
   "source": [
    "def linear_backward(dz: torch.Tensor, cache: Tuple) -> Tuple[torch.Tensor]:\n",
    "    \"\"\"\n",
    "    Computes gradients of current later required for gradient descent\n",
    "\n",
    "    Parameters\n",
    "    ----------\n",
    "    dz: `torch.Tensor`\n",
    "        Gradient of linear activation Z of current layer\n",
    "    cache: `Tuple`\n",
    "        Cache containing values required for back propagation\n",
    "\n",
    "    Returns\n",
    "    -------\n",
    "    dA_prev: `torch.Tensor`\n",
    "        Gradient of activations of previous layer\n",
    "    dw: `torch.Tensor`\n",
    "        Gradient of weights of current layer\n",
    "    db: `torch.Tensor`\n",
    "        Gradient of biases of current layer\n",
    "    \"\"\"\n",
    "\n",
    "    A_prev, w, b = cache\n",
    "    m = A_prev.shape[1]\n",
    "    dw = torch.mm(dz, A_prev.transpose(0, 1)) / m\n",
    "    db = torch.sum(dz, axis=1, keepdims=True) / m\n",
    "    dA_prev = torch.mm(w.transpose(0, 1), dz)\n",
    "\n",
    "    return dA_prev, dw, db"
   ]
  },
  {
   "cell_type": "code",
   "execution_count": 42,
   "metadata": {},
   "outputs": [],
   "source": [
    "def sigmoid_backward(dA: torch.Tensor, cache: Tuple) -> torch.Tensor:\n",
    "    \"\"\"\n",
    "    Function to compute the gradient of linear activation\n",
    "\n",
    "    Parameters\n",
    "    ----------\n",
    "    dA: `torch.Tensor`\n",
    "        Gradient of activation function\n",
    "    cache: `Tuple`\n",
    "        Tuple containing values for back propagation\n",
    "\n",
    "    Returns\n",
    "    -------\n",
    "    dz: `torch.Tensor`\n",
    "        Gradient of linear activation\n",
    "    \"\"\"\n",
    "\n",
    "    Z = cache\n",
    "    s = 1 / (1 + torch.exp(-Z))\n",
    "    dz = dA.transpose(0, 1) * s * (1 - s)\n",
    "\n",
    "    return dz"
   ]
  },
  {
   "cell_type": "code",
   "execution_count": 43,
   "metadata": {},
   "outputs": [],
   "source": [
    "def relu_backward(dA: torch.Tensor, cache: Tuple) -> torch.Tensor:\n",
    "    \"\"\"\n",
    "    Function to compute the gradient of linear activation\n",
    "\n",
    "    Parameters\n",
    "    ----------\n",
    "    dA: `torch.Tensor`\n",
    "        Gradient of activations of current layer\n",
    "    cache: `Tuple`\n",
    "        Tuple containing values for back propagation\n",
    "\n",
    "    Returns\n",
    "    -------\n",
    "    dz: `torch.Tensor`\n",
    "        Gradient of linear activation\n",
    "    \"\"\"\n",
    "\n",
    "    Z = cache\n",
    "    dz = dA\n",
    "    dz[Z <= 0] = 0\n",
    "\n",
    "    return dz"
   ]
  },
  {
   "cell_type": "code",
   "execution_count": null,
   "metadata": {},
   "outputs": [],
   "source": [
    "def linear_activation_backward(\n",
    "    dA: torch.Tensor, cache: List, activation: str\n",
    ") -> Tuple[torch.Tensor]:\n",
    "    \"\"\"\n",
    "    Function to compute gradients\n",
    "\n",
    "    Parameters\n",
    "    ----------\n",
    "    dA: `torch.Tensor`\n",
    "        Gradient of activation layer\n",
    "    cache: `List`\n",
    "        List containing values for back propagation\n",
    "    activation: `str`\n",
    "        Type of activation used\n",
    "\n",
    "    Returns\n",
    "    -------\n",
    "    dA_prev: ``torch.Tensor\n",
    "        Gradient of activations of previous layer\n",
    "    dw: `torch.Tensor`\n",
    "        Gradient of weights of current layer\n",
    "    db: `torch.Tensor`\n",
    "        Gradient of biases of current layer\n",
    "    \"\"\"\n",
    "\n",
    "    linear_cache, activation_cache = cache\n",
    "\n",
    "    if activation == \"relu\":\n",
    "        dz = relu_backward(dA, activation_cache)\n",
    "\n",
    "    elif activation == \"sigmoid\":\n",
    "        dz = sigmoid_backward(dA, activation_cache)\n",
    "\n",
    "    dA_prev, dw, db = linear_backward(dz, linear_cache)\n",
    "\n",
    "    return dA_prev, dw, db"
   ]
  },
  {
   "cell_type": "code",
   "execution_count": null,
   "metadata": {},
   "outputs": [],
   "source": [
    "def L_model_backward(\n",
    "    AL: torch.Tensor, Y: torch.Tensor, caches: List\n",
    ") -> Dict[str, torch.Tensor]:\n",
    "    \"\"\"\n",
    "    Computes one backward pass to calculate gradients required for gradient descent\n",
    "\n",
    "    Parameters\n",
    "    ----------\n",
    "    AL: `torch.Tensor`\n",
    "        Activations of the final layer\n",
    "    Y: `torch.Tensor`\n",
    "        Truth values\n",
    "    caches: `List`\n",
    "        List containing values for backpropgation\n",
    "\n",
    "    Returns\n",
    "    -------\n",
    "    grads: `Dict[str, torch.Tensor]`\n",
    "        Dictionary containing the gradients for all weights and biases\n",
    "    \"\"\"\n",
    "\n",
    "    L = len(caches)\n",
    "    m = Y.shape[1]\n",
    "    grads = {}\n",
    "\n",
    "    dAL = -(torch.div(Y, AL.transpose(0, 1)) - torch.div(1 - Y, 1 - AL.transpose(0, 1)))\n",
    "\n",
    "    grads[f\"dA{L-1}\"], grads[f\"dW{L}\"], grads[f\"db{L}\"] = linear_activation_backward(\n",
    "        dAL, caches[L - 1], \"sigmoid\"\n",
    "    )\n",
    "    for l in reversed(range(L - 1)):\n",
    "        dA_prev, dw, db = linear_activation_backward(\n",
    "            grads[f\"dA{l+1}\"], caches[l], \"relu\"\n",
    "        )\n",
    "        grads[f\"dW{l+1}\"] = dw\n",
    "        grads[f\"db{l+1}\"] = db\n",
    "        grads[f\"dA{l}\"] = dA_prev\n",
    "\n",
    "    return grads"
   ]
  },
  {
   "cell_type": "code",
   "execution_count": 48,
   "metadata": {},
   "outputs": [],
   "source": [
    "def update_parameters(\n",
    "    params: Dict[str, torch.Tensor],\n",
    "    grads: Dict[str, torch.Tensor],\n",
    "    learning_rate: float,\n",
    ") -> Dict[str, torch.Tensor]:\n",
    "    \"\"\"\n",
    "    Function to perform gradeint descent\n",
    "\n",
    "    Paramters\n",
    "    ---------\n",
    "    params: `Dict[str, torch.Tensor]`\n",
    "        Parameters of the model that are to be updated\n",
    "    grads: `Dict[str, torch.Tensor]`\n",
    "        Gradients that are used to update paramters during gradient descent\n",
    "    learning_rate: `float`\n",
    "        Learning rate used to affect the rate of gradient descent\n",
    "\n",
    "    Returns\n",
    "    -------\n",
    "    params: `Dict[str, torch.Tensor]`\n",
    "        Updated parameters after gradient descent\n",
    "    \"\"\"\n",
    "\n",
    "    L = len(params) // 2\n",
    "    for l in range(1, L + 1):\n",
    "        params[f\"W{l}\"] -= learning_rate * grads[f\"dW{l}\"]\n",
    "        params[f\"b{l}\"] -= learning_rate * grads[f\"db{l}\"]\n",
    "\n",
    "    return params"
   ]
  },
  {
   "cell_type": "code",
   "execution_count": 49,
   "metadata": {},
   "outputs": [],
   "source": [
    "def predict(X_test: torch.Tensor, parameters: Dict[str, torch.Tensor]) -> torch.Tensor:\n",
    "    \"\"\"\n",
    "    Function used to predict the output of given input data based on trained model\n",
    "\n",
    "    Parameters\n",
    "    ----------\n",
    "    X_test: `torch.Tensor`\n",
    "        Input data that is used to predictions\n",
    "    parameters: `Dict[str, torch.Tensor]`\n",
    "        Parameters used for predictions\n",
    "\n",
    "    Returns\n",
    "    -------\n",
    "    predictions: `torch.Tensor`\n",
    "        Predictions for given input data\n",
    "    \"\"\"\n",
    "\n",
    "    AL, caches = L_model_forward(X_test, parameters)\n",
    "\n",
    "    AL[AL < 0.5] = 0\n",
    "    AL[AL >= 0.5] = 1\n",
    "\n",
    "    return torch.squeeze(AL)"
   ]
  },
  {
   "cell_type": "code",
   "execution_count": 50,
   "metadata": {},
   "outputs": [],
   "source": [
    "def draw(learning_rate: float, epochs: int, costs: List):\n",
    "    \"\"\"\n",
    "    Function to draw the variation of cost over different epochs\n",
    "\n",
    "    Parameters\n",
    "    ----------\n",
    "    learning_rate: `float`\n",
    "        Learning rate used to affect the rate of gradient descent\n",
    "    epochs: `int`\n",
    "        Number of times the training samples are to be read / No. of iterations of model\n",
    "    costs: `List`\n",
    "        List containing costs in all epochs\n",
    "    \"\"\"\n",
    "\n",
    "    plt.title(\"Learning rate = \" + str(learning_rate))\n",
    "    plt.plot(range(1, epochs + 1), costs)\n",
    "    plt.xlabel(\"No. of iterations\")\n",
    "    plt.ylabel(\"Cost Function\")\n",
    "    plt.show()"
   ]
  },
  {
   "cell_type": "code",
   "execution_count": 51,
   "metadata": {},
   "outputs": [],
   "source": [
    "def MultiLabelClassifier(\n",
    "    X: torch.Tensor,\n",
    "    Y: torch.Tensor,\n",
    "    layers_dims: List,\n",
    "    learning_rate: float = 0.1,\n",
    "    epochs: int = 10,\n",
    "    print_cost: bool = False,\n",
    "    draw_cost: bool = False,\n",
    ") -> Dict[str, torch.Tensor]:\n",
    "    \"\"\"\n",
    "    Function that builds a neural network model for Multilabel Classification\n",
    "\n",
    "    Parameters\n",
    "    ----------\n",
    "    X: ``torch.Tensor``\n",
    "        Input data to the model\n",
    "    Y: ``torch.Tensor``\n",
    "        Output data used for supervised learning\n",
    "    epochs: ``int`` ( default = 10 )\n",
    "        Number of times the training samples are to be read / No. of iterations of model\n",
    "    learning_rate: ``str`` ( default = 0.1 )\n",
    "        Learning rate used to affect the rate of gradient descent\n",
    "    print_cost: ``str`` ( default = False )\n",
    "        Flag that determines if cost is to be printed while training the model\n",
    "    draw_cost: ``str`` ( default = False )\n",
    "        Flag that determines if a plot of cost function vs epoch is to be drawn\n",
    "    params: ``str`` ( default = {} )\n",
    "        Parameters of the model\n",
    "    grads: ``str`` ( default = {} )\n",
    "        Gradient of every parameter\n",
    "    costs: ``str`` ( default = [] )\n",
    "        List containing cost after each epoch\n",
    "    \"\"\"\n",
    "\n",
    "    costs = []\n",
    "\n",
    "    parameters = initialize_parameters(layers_dims)\n",
    "\n",
    "    for i in range(0, epochs):\n",
    "        AL, caches = L_model_forward(X, parameters)\n",
    "\n",
    "        cost = compute_cost(AL, Y)\n",
    "        costs.append(cost)\n",
    "\n",
    "        grads = L_model_backward(AL, Y, caches)\n",
    "\n",
    "        parameters = update_parameters(parameters, grads, learning_rate)\n",
    "        if print_cost:\n",
    "            print(f\"Cost after iteration {i}: {cost}\")\n",
    "\n",
    "    if draw_cost:\n",
    "        draw(learning_rate, epochs, costs)\n",
    "\n",
    "    return parameters"
   ]
  },
  {
   "attachments": {},
   "cell_type": "markdown",
   "metadata": {},
   "source": [
    "### Test the model"
   ]
  },
  {
   "cell_type": "code",
   "execution_count": 52,
   "metadata": {},
   "outputs": [
    {
     "name": "stdout",
     "output_type": "stream",
     "text": [
      "Cost after iteration 0: 0.693968653678894\n",
      "Cost after iteration 1: 0.669308066368103\n",
      "Cost after iteration 2: 0.6466655731201172\n",
      "Cost after iteration 3: 0.6251389384269714\n",
      "Cost after iteration 4: 0.6046704649925232\n",
      "Cost after iteration 5: 0.5852046012878418\n",
      "Cost after iteration 6: 0.566688060760498\n",
      "Cost after iteration 7: 0.5490697026252747\n",
      "Cost after iteration 8: 0.5323009490966797\n",
      "Cost after iteration 9: 0.5163353085517883\n"
     ]
    },
    {
     "data": {
      "image/png": "[encoded data removed]",
      "text/plain": [
       "<Figure size 640x480 with 1 Axes>"
      ]
     },
     "metadata": {},
     "output_type": "display_data"
    }
   ],
   "source": [
    "params = MultiLabelClassifier(\n",
    "    train_x.transpose(0, 1),\n",
    "    train_y,\n",
    "    layers_dims=[10000, 10, train_y.shape[1]],\n",
    "    epochs=10,\n",
    "    print_cost=True,\n",
    "    draw_cost=True,\n",
    ")"
   ]
  },
  {
   "attachments": {},
   "cell_type": "markdown",
   "metadata": {},
   "source": [
    "### Testing the model"
   ]
  },
  {
   "cell_type": "code",
   "execution_count": 53,
   "metadata": {},
   "outputs": [],
   "source": [
    "test_x = tfidf.transform(test[\"plot\"])\n",
    "\n",
    "coo_test = test_x.tocoo()\n",
    "values = coo_test.data\n",
    "indices = np.vstack((coo_test.row, coo_test.col))\n",
    "index = torch.LongTensor(indices)\n",
    "value = torch.FloatTensor(values)\n",
    "shape = coo_test.shape\n",
    "\n",
    "test_x = torch.sparse.FloatTensor(index, value, torch.Size(shape)).to_dense()\n",
    "test_x = test_x.transpose(0, 1)"
   ]
  },
  {
   "cell_type": "code",
   "execution_count": 54,
   "metadata": {},
   "outputs": [
    {
     "data": {
      "text/plain": [
       "torch.Size([10000, 12538])"
      ]
     },
     "execution_count": 54,
     "metadata": {},
     "output_type": "execute_result"
    }
   ],
   "source": [
    "test_x.shape"
   ]
  },
  {
   "cell_type": "code",
   "execution_count": 55,
   "metadata": {},
   "outputs": [],
   "source": [
    "predictions = predict(test_x, params)"
   ]
  },
  {
   "cell_type": "code",
   "execution_count": 56,
   "metadata": {},
   "outputs": [
    {
     "data": {
      "text/plain": [
       "torch.Size([360, 12538])"
      ]
     },
     "execution_count": 56,
     "metadata": {},
     "output_type": "execute_result"
    }
   ],
   "source": [
    "predictions.shape"
   ]
  }
 ],
 "metadata": {
  "kernelspec": {
   "display_name": "Python 3",
   "language": "python",
   "name": "python3"
  },
  "language_info": {
   "codemirror_mode": {
    "name": "ipython",
    "version": 3
   },
   "file_extension": ".py",
   "mimetype": "text/x-python",
   "name": "python",
   "nbconvert_exporter": "python",
   "pygments_lexer": "ipython3",
   "version": "3.10.6"
  },
  "orig_nbformat": 4,
  "vscode": {
   "interpreter": {
    "hash": "916dbcbb3f70747c44a77c7bcd40155683ae19c65e1c03b4aa3499c5328201f1"
   }
  }
 },
 "nbformat": 4,
 "nbformat_minor": 2
}
